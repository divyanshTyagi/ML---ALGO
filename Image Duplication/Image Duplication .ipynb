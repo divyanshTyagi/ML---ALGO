{
 "cells": [
  {
   "cell_type": "markdown",
   "metadata": {},
   "source": [
    "<h1> To remove duplicate images from a given dataset </h1>\n",
    "<ol>\n",
    "    <li> Average Hashing    (aHash) </li>\n",
    "    <li> Peceptual Hashing (pHash) </li>\n",
    "    <li> Difference Hashing (dHash) </li>\n",
    "</ol>"
   ]
  },
  {
   "cell_type": "code",
   "execution_count": 1,
   "metadata": {},
   "outputs": [],
   "source": [
    "import cv2\n",
    "import os\n",
    "import numpy as np\n",
    "import matplotlib.pyplot as plt\n",
    "from scipy.fftpack import dct\n",
    "import csv"
   ]
  },
  {
   "cell_type": "markdown",
   "metadata": {},
   "source": [
    "# using aHash\n",
    "\n",
    "1. Import Images\n",
    "2. Reduce there sizes to 8x8\n",
    "3. convert image to grayscale\n",
    "4. Average the colors\n",
    "5. Based on whether an individual pixel more than average value , we assign it a 1/0 value"
   ]
  },
  {
   "cell_type": "code",
   "execution_count": 2,
   "metadata": {},
   "outputs": [],
   "source": [
    "# Importing images\n",
    "\n",
    "img = []   # Names of the images\n",
    "names = [] # Names of image files\n",
    "ctr =0\n",
    "for dog in os.listdir('aug_dogs'):\n",
    "    names.append(dog)\n",
    "    ctr+=1\n",
    "    filePath = os.path.join('aug_dogs/',dog)\n",
    "    dogImg = cv2.imread(filePath)\n",
    "    #Converting image to gray scale\n",
    "    dogImgGrayScale = cv2.cvtColor(dogImg,cv2.COLOR_BGR2GRAY)\n",
    "    #Resizing image\n",
    "    dogImgResized = cv2.resize(dogImgGrayScale,(8,8))\n",
    "    img.append(dogImgResized)"
   ]
  },
  {
   "cell_type": "code",
   "execution_count": 3,
   "metadata": {},
   "outputs": [],
   "source": [
    "#Computing hash values for each img\n",
    "aHash  =[]\n",
    "for dog in img:\n",
    "    mean_color = np.mean(dog)\n",
    "    new_mat = [x>mean_color for x in dog]\n",
    "    new_mat = np.array(new_mat,dtype = 'int').reshape((-1,))\n",
    "    binVal = ''.join(str(x) for x in new_mat)\n",
    "    hashVal = hex(int(binVal, 2)) # for reference\n",
    "    aHash.append(binVal)"
   ]
  },
  {
   "cell_type": "code",
   "execution_count": 4,
   "metadata": {},
   "outputs": [],
   "source": [
    "# Making a dictionary of values having same bits\n",
    "duplicated = {}\n",
    "for i in range(len(names)):\n",
    "    curr_name = names[i]\n",
    "    curr_hash = aHash[i]\n",
    "    try:\n",
    "        duplicated[curr_hash].append(curr_name)\n",
    "    except:\n",
    "        duplicated[curr_hash] = []\n",
    "        duplicated[curr_hash].append(curr_name)"
   ]
  },
  {
   "cell_type": "code",
   "execution_count": 5,
   "metadata": {
    "scrolled": true
   },
   "outputs": [
    {
     "name": "stdout",
     "output_type": "stream",
     "text": [
      "['c_dog.10.jpg', 'dog.10.jpg', 'n@dog.10.jpg']\n",
      "['c_dog.100.jpg', 'dog.100.jpg']\n",
      "['c_dog.1000.jpg', 'dog.1000.jpg', 'n@dog.1000.jpg']\n",
      "['c_dog.1001.jpg', 'dog.1001.jpg']\n",
      "['c_dog.1002.jpg', 'dog.1002.jpg', 'n@dog.1002.jpg']\n",
      "['c_dog.1003.jpg', 'dog.1003.jpg']\n",
      "['c_dog.1004.jpg', 'dog.1004.jpg', 'n@dog.1004.jpg']\n",
      "['c_dog.1005.jpg', 'dog.1005.jpg', 'n@dog.1005.jpg']\n",
      "['c_dog.1006.jpg', 'dog.1006.jpg']\n",
      "['c_dog.1007.jpg', 'dog.1007.jpg']\n",
      "['c_dog.1008.jpg', 'dog.1008.jpg', 'n@dog.1008.jpg']\n",
      "['c_dog.1009.jpg', 'dog.1009.jpg', 'n@dog.1009.jpg']\n",
      "['c_dog.101.jpg', 'dog.101.jpg']\n",
      "['c_dog.1010.jpg', 'dog.1010.jpg']\n",
      "['c_dog.1011.jpg', 'dog.1011.jpg']\n",
      "['c_dog.1012.jpg', 'dog.1012.jpg']\n",
      "['c_dog.1013.jpg', 'dog.1013.jpg']\n",
      "['c_dog.1014.jpg', 'dog.1014.jpg']\n",
      "['c_dog.1015.jpg', 'dog.1015.jpg']\n",
      "['c_dog.1016.jpg', 'dog.1016.jpg', 'n@dog.1016.jpg']\n"
     ]
    }
   ],
   "source": [
    "# Analyzing the results\n",
    "duplicated_names = 0\n",
    "duplicated_items = 0\n",
    "total_images =0 \n",
    "for keys in duplicated.keys():\n",
    "    total_images+=1\n",
    "    if(len(duplicated[keys]) >= 2):\n",
    "        duplicated_names+=1\n",
    "        duplicated_items += len(duplicated[keys])\n",
    "        # Printing some duplicate names\n",
    "        if(duplicated_names <= 20 ):\n",
    "            print(duplicated[keys])\n",
    "# # Saving the result\n",
    "with open('aHash.csv', 'w') as f:\n",
    "    for key in duplicated.keys():\n",
    "        for elem in duplicated[key]:\n",
    "            f.write(\"%s,\"%(elem))\n",
    "        f.write(\"\\n\")"
   ]
  },
  {
   "cell_type": "code",
   "execution_count": 6,
   "metadata": {},
   "outputs": [
    {
     "name": "stdout",
     "output_type": "stream",
     "text": [
      "2383 1001 6432\n"
     ]
    }
   ],
   "source": [
    "print(duplicated_items,duplicated_names,total_images)"
   ]
  },
  {
   "cell_type": "markdown",
   "metadata": {},
   "source": [
    "<p> Our analysis using aHash reveals that there are a total of 1001 uniques images(out of 6432 unique images) which have been duplicated a grand total of 2383 </p>"
   ]
  },
  {
   "cell_type": "code",
   "execution_count": 7,
   "metadata": {},
   "outputs": [
    {
     "name": "stdout",
     "output_type": "stream",
     "text": [
      "Encountered Duplicates\n",
      "Encountered Duplicates\n",
      "Encountered Duplicates\n",
      "Encountered Duplicates\n",
      "Encountered Duplicates\n",
      "Encountered Duplicates\n",
      "Encountered Duplicates\n",
      "Encountered Duplicates\n",
      "Encountered Duplicates\n",
      "Encountered Duplicates\n"
     ]
    }
   ],
   "source": [
    "# Visualizing duplicates\n",
    "itr = 0\n",
    "for keys in duplicated.keys():\n",
    "    if(itr == 10 ):\n",
    "        break\n",
    "    if(len(duplicated[keys]) >= 2):\n",
    "        itr+=1;\n",
    "        print(\"Encountered Duplicates\")\n",
    "        for values in duplicated[keys]:\n",
    "            filePath = os.path.join('aug_dogs/',values)\n",
    "            curr_img = cv2.imread(filePath)\n",
    "            cv2.imshow(str(itr),curr_img)\n",
    "            cv2.waitKey(0)\n",
    "            cv2.destroyAllWindows()"
   ]
  },
  {
   "cell_type": "markdown",
   "metadata": {},
   "source": [
    "# using pHash\n",
    "\n",
    "1. Import Images\n",
    "2. Reduce there sizes to 32x32\n",
    "3. convert image to grayscale\n",
    "4. Convert image to its dct eqv\n",
    "5. Crop the upper 8x8 half\n",
    "6. Take average of pixel values\n",
    "7. Iterate through all the pixels and if they are pixel values > average then make them 1 else 0"
   ]
  },
  {
   "cell_type": "code",
   "execution_count": 8,
   "metadata": {},
   "outputs": [],
   "source": [
    "# Importing images\n",
    "\n",
    "img = []   # Names of the images\n",
    "names = [] # Names of image files\n",
    "ctr =0\n",
    "for dog in os.listdir('aug_dogs'):\n",
    "    names.append(dog)\n",
    "    ctr+=1\n",
    "    filePath = os.path.join('aug_dogs/',dog)\n",
    "    dogImg = cv2.imread(filePath)\n",
    "    #Converting image to gray scale\n",
    "    dogImgGrayScale = cv2.cvtColor(dogImg,cv2.COLOR_BGR2GRAY)\n",
    "    #Resizing image\n",
    "    dogImgResized = cv2.resize(dogImgGrayScale,(32,32))\n",
    "    img.append(dogImgResized)"
   ]
  },
  {
   "cell_type": "code",
   "execution_count": 9,
   "metadata": {},
   "outputs": [],
   "source": [
    "#Computing hash values for each img\n",
    "pHash  =[]\n",
    "for dog in img:\n",
    "    \n",
    "    dctImage = dct(dog,type = 2)[:8,:8]\n",
    "    upperHalfDct = (dctImage.sum() - dctImage[0][0])/63.0\n",
    "    dctImage = dctImage.reshape((-1,))\n",
    "    dctImage = [x>upperHalfDct for x in dctImage]\n",
    "    dctImage = np.array(dctImage,dtype = 'int')\n",
    "    dctImage = dctImage.reshape((-1,))\n",
    "    binVal = ''.join(str(x) for x in dctImage)\n",
    "    hashVal = hex(int(binVal, 2)) # for reference\n",
    "    pHash.append(binVal)"
   ]
  },
  {
   "cell_type": "code",
   "execution_count": 10,
   "metadata": {},
   "outputs": [],
   "source": [
    "# Making a dictionary of values having same bits\n",
    "duplicated = {}\n",
    "for i in range(len(names)):\n",
    "    curr_name = names[i]\n",
    "    curr_hash = pHash[i]\n",
    "    try:\n",
    "        duplicated[curr_hash].append(curr_name)\n",
    "    except:\n",
    "        duplicated[curr_hash] = []\n",
    "        duplicated[curr_hash].append(curr_name)"
   ]
  },
  {
   "cell_type": "code",
   "execution_count": 11,
   "metadata": {},
   "outputs": [
    {
     "name": "stdout",
     "output_type": "stream",
     "text": [
      "['c_dog.10.jpg', 'dog.10.jpg']\n",
      "['c_dog.100.jpg', 'dog.100.jpg']\n",
      "['c_dog.1000.jpg', 'c_dog.3137.jpg', 'dog.1000.jpg', 'f0@dog.1816.jpg', 'f1@dog.1408.jpg', 'n@dog.1000.jpg']\n",
      "['c_dog.1001.jpg', 'c_dog.1002.jpg', 'c_dog.1004.jpg', 'c_dog.1014.jpg', 'c_dog.1018.jpg', 'c_dog.1023.jpg', 'c_dog.1046.jpg', 'c_dog.1048.jpg', 'c_dog.105.jpg', 'c_dog.1057.jpg', 'c_dog.1058.jpg', 'c_dog.1064.jpg', 'c_dog.1065.jpg', 'c_dog.107.jpg', 'c_dog.1076.jpg', 'c_dog.1079.jpg', 'c_dog.1083.jpg', 'c_dog.1090.jpg', 'c_dog.1091.jpg', 'c_dog.1095.jpg', 'c_dog.11.jpg', 'c_dog.1100.jpg', 'c_dog.1112.jpg', 'c_dog.1113.jpg', 'c_dog.1114.jpg', 'c_dog.1117.jpg', 'c_dog.113.jpg', 'c_dog.1132.jpg', 'c_dog.1140.jpg', 'c_dog.1146.jpg', 'c_dog.1156.jpg', 'c_dog.1162.jpg', 'c_dog.1169.jpg', 'c_dog.1173.jpg', 'c_dog.1195.jpg', 'c_dog.1206.jpg', 'c_dog.1208.jpg', 'c_dog.1210.jpg', 'c_dog.1214.jpg', 'c_dog.1216.jpg', 'c_dog.1221.jpg', 'c_dog.1226.jpg', 'c_dog.1242.jpg', 'c_dog.1243.jpg', 'c_dog.1257.jpg', 'c_dog.1270.jpg', 'c_dog.1273.jpg', 'c_dog.1284.jpg', 'c_dog.1292.jpg', 'c_dog.1297.jpg', 'c_dog.1305.jpg', 'c_dog.1309.jpg', 'c_dog.1316.jpg', 'c_dog.1319.jpg', 'c_dog.132.jpg', 'c_dog.1322.jpg', 'c_dog.1336.jpg', 'c_dog.1358.jpg', 'c_dog.136.jpg', 'c_dog.1365.jpg', 'c_dog.1366.jpg', 'c_dog.1381.jpg', 'c_dog.1386.jpg', 'c_dog.1396.jpg', 'c_dog.14.jpg', 'c_dog.1405.jpg', 'c_dog.1413.jpg', 'c_dog.1424.jpg', 'c_dog.1428.jpg', 'c_dog.1431.jpg', 'c_dog.1445.jpg', 'c_dog.1456.jpg', 'c_dog.1460.jpg', 'c_dog.1461.jpg', 'c_dog.1464.jpg', 'c_dog.1466.jpg', 'c_dog.1470.jpg', 'c_dog.148.jpg', 'c_dog.1481.jpg', 'c_dog.1520.jpg', 'c_dog.1525.jpg', 'c_dog.1535.jpg', 'c_dog.1541.jpg', 'c_dog.1545.jpg', 'c_dog.1560.jpg', 'c_dog.1565.jpg', 'c_dog.1581.jpg', 'c_dog.1582.jpg', 'c_dog.1586.jpg', 'c_dog.1587.jpg', 'c_dog.1592.jpg', 'c_dog.1594.jpg', 'c_dog.1596.jpg', 'c_dog.1597.jpg', 'c_dog.16.jpg', 'c_dog.160.jpg', 'c_dog.1602.jpg', 'c_dog.1603.jpg', 'c_dog.1604.jpg', 'c_dog.1607.jpg', 'c_dog.1615.jpg', 'c_dog.1619.jpg', 'c_dog.1639.jpg', 'c_dog.1640.jpg', 'c_dog.1641.jpg', 'c_dog.1644.jpg', 'c_dog.1649.jpg', 'c_dog.1651.jpg', 'c_dog.1652.jpg', 'c_dog.1657.jpg', 'c_dog.1662.jpg', 'c_dog.1665.jpg', 'c_dog.1682.jpg', 'c_dog.1684.jpg', 'c_dog.1689.jpg', 'c_dog.1694.jpg', 'c_dog.1695.jpg', 'c_dog.170.jpg', 'c_dog.1709.jpg', 'c_dog.1711.jpg', 'c_dog.1714.jpg', 'c_dog.1718.jpg', 'c_dog.1727.jpg', 'c_dog.1729.jpg', 'c_dog.1734.jpg', 'c_dog.1737.jpg', 'c_dog.1745.jpg', 'c_dog.1747.jpg', 'c_dog.1752.jpg', 'c_dog.1760.jpg', 'c_dog.1762.jpg', 'c_dog.1786.jpg', 'c_dog.1794.jpg', 'c_dog.1795.jpg', 'c_dog.1803.jpg', 'c_dog.1811.jpg', 'c_dog.1814.jpg', 'c_dog.182.jpg', 'c_dog.1831.jpg', 'c_dog.1838.jpg', 'c_dog.1843.jpg', 'c_dog.1849.jpg', 'c_dog.185.jpg', 'c_dog.1857.jpg', 'c_dog.1858.jpg', 'c_dog.1864.jpg', 'c_dog.1868.jpg', 'c_dog.1869.jpg', 'c_dog.187.jpg', 'c_dog.1877.jpg', 'c_dog.1898.jpg', 'c_dog.1902.jpg', 'c_dog.1903.jpg', 'c_dog.191.jpg', 'c_dog.1911.jpg', 'c_dog.1919.jpg', 'c_dog.1921.jpg', 'c_dog.1928.jpg', 'c_dog.1935.jpg', 'c_dog.194.jpg', 'c_dog.195.jpg', 'c_dog.1958.jpg', 'c_dog.1965.jpg', 'c_dog.1971.jpg', 'c_dog.1972.jpg', 'c_dog.1975.jpg', 'c_dog.1980.jpg', 'c_dog.199.jpg', 'c_dog.1990.jpg', 'c_dog.1993.jpg', 'c_dog.1999.jpg', 'c_dog.2.jpg', 'c_dog.20.jpg', 'c_dog.2000.jpg', 'c_dog.2005.jpg', 'c_dog.2012.jpg', 'c_dog.2017.jpg', 'c_dog.2018.jpg', 'c_dog.2020.jpg', 'c_dog.2024.jpg', 'c_dog.2029.jpg', 'c_dog.203.jpg', 'c_dog.2030.jpg', 'c_dog.2043.jpg', 'c_dog.2044.jpg', 'c_dog.2049.jpg', 'c_dog.2052.jpg', 'c_dog.2056.jpg', 'c_dog.2057.jpg', 'c_dog.2060.jpg', 'c_dog.2062.jpg', 'c_dog.2066.jpg', 'c_dog.2069.jpg', 'c_dog.208.jpg', 'c_dog.2081.jpg', 'c_dog.2082.jpg', 'c_dog.2096.jpg', 'c_dog.2100.jpg', 'c_dog.2101.jpg', 'c_dog.2102.jpg', 'c_dog.2107.jpg', 'c_dog.2109.jpg', 'c_dog.211.jpg', 'c_dog.2110.jpg', 'c_dog.2111.jpg', 'c_dog.2113.jpg', 'c_dog.2119.jpg', 'c_dog.212.jpg', 'c_dog.2129.jpg', 'c_dog.213.jpg', 'c_dog.2131.jpg', 'c_dog.2133.jpg', 'c_dog.2143.jpg', 'c_dog.2147.jpg', 'c_dog.2149.jpg', 'c_dog.2150.jpg', 'c_dog.2158.jpg', 'c_dog.2160.jpg', 'c_dog.2161.jpg', 'c_dog.2164.jpg', 'c_dog.2165.jpg', 'c_dog.2171.jpg', 'c_dog.2172.jpg', 'c_dog.2176.jpg', 'c_dog.2185.jpg', 'c_dog.2190.jpg', 'c_dog.2193.jpg', 'c_dog.2198.jpg', 'c_dog.2202.jpg', 'c_dog.2204.jpg', 'c_dog.2215.jpg', 'c_dog.2224.jpg', 'c_dog.2225.jpg', 'c_dog.2233.jpg', 'c_dog.2238.jpg', 'c_dog.225.jpg', 'c_dog.2253.jpg', 'c_dog.2258.jpg', 'c_dog.2262.jpg', 'c_dog.2263.jpg', 'c_dog.2270.jpg', 'c_dog.2272.jpg', 'c_dog.2274.jpg', 'c_dog.2281.jpg', 'c_dog.2286.jpg', 'c_dog.2295.jpg', 'c_dog.23.jpg', 'c_dog.2300.jpg', 'c_dog.2304.jpg', 'c_dog.2317.jpg', 'c_dog.2337.jpg', 'c_dog.2338.jpg', 'c_dog.2339.jpg', 'c_dog.234.jpg', 'c_dog.2343.jpg', 'c_dog.2349.jpg', 'c_dog.2356.jpg', 'c_dog.2362.jpg', 'c_dog.2364.jpg', 'c_dog.2370.jpg', 'c_dog.2390.jpg', 'c_dog.2393.jpg', 'c_dog.2398.jpg', 'c_dog.2403.jpg', 'c_dog.2405.jpg', 'c_dog.2407.jpg', 'c_dog.2423.jpg', 'c_dog.2425.jpg', 'c_dog.2430.jpg', 'c_dog.2434.jpg', 'c_dog.244.jpg', 'c_dog.2444.jpg', 'c_dog.2449.jpg', 'c_dog.2460.jpg', 'c_dog.2462.jpg', 'c_dog.2466.jpg', 'c_dog.2472.jpg', 'c_dog.248.jpg', 'c_dog.2481.jpg', 'c_dog.2487.jpg', 'c_dog.249.jpg', 'c_dog.2492.jpg', 'c_dog.2498.jpg', 'c_dog.2499.jpg', 'c_dog.2502.jpg', 'c_dog.2512.jpg', 'c_dog.252.jpg', 'c_dog.2529.jpg', 'c_dog.2534.jpg', 'c_dog.2550.jpg', 'c_dog.2561.jpg', 'c_dog.2567.jpg', 'c_dog.2570.jpg', 'c_dog.2579.jpg', 'c_dog.2581.jpg', 'c_dog.2588.jpg', 'c_dog.2591.jpg', 'c_dog.2593.jpg', 'c_dog.2595.jpg', 'c_dog.2597.jpg', 'c_dog.2599.jpg', 'c_dog.26.jpg', 'c_dog.2614.jpg', 'c_dog.2618.jpg', 'c_dog.2622.jpg', 'c_dog.2623.jpg', 'c_dog.2627.jpg', 'c_dog.2629.jpg', 'c_dog.2631.jpg', 'c_dog.2636.jpg', 'c_dog.2637.jpg', 'c_dog.2643.jpg', 'c_dog.2648.jpg', 'c_dog.2657.jpg', 'c_dog.2659.jpg', 'c_dog.2660.jpg', 'c_dog.2667.jpg', 'c_dog.2672.jpg', 'c_dog.2673.jpg', 'c_dog.2680.jpg', 'c_dog.2686.jpg', 'c_dog.2689.jpg', 'c_dog.2699.jpg', 'c_dog.2701.jpg', 'c_dog.2703.jpg', 'c_dog.2716.jpg', 'c_dog.2719.jpg', 'c_dog.2720.jpg', 'c_dog.2722.jpg', 'c_dog.2725.jpg', 'c_dog.2727.jpg', 'c_dog.2733.jpg', 'c_dog.2738.jpg', 'c_dog.2741.jpg', 'c_dog.2750.jpg', 'c_dog.2752.jpg', 'c_dog.2753.jpg', 'c_dog.2763.jpg', 'c_dog.2764.jpg', 'c_dog.2766.jpg', 'c_dog.2767.jpg', 'c_dog.2771.jpg', 'c_dog.2773.jpg', 'c_dog.2775.jpg', 'c_dog.2781.jpg', 'c_dog.2789.jpg', 'c_dog.2804.jpg', 'c_dog.2811.jpg', 'c_dog.2816.jpg', 'c_dog.2819.jpg', 'c_dog.2821.jpg', 'c_dog.2828.jpg', 'c_dog.2829.jpg', 'c_dog.2831.jpg', 'c_dog.2842.jpg', 'c_dog.2847.jpg', 'c_dog.2852.jpg', 'c_dog.2857.jpg', 'c_dog.286.jpg', 'c_dog.2865.jpg', 'c_dog.287.jpg', 'c_dog.2873.jpg', 'c_dog.2874.jpg', 'c_dog.2887.jpg', 'c_dog.2895.jpg', 'c_dog.2904.jpg', 'c_dog.2905.jpg', 'c_dog.2907.jpg', 'c_dog.2909.jpg', 'c_dog.2912.jpg', 'c_dog.2915.jpg', 'c_dog.2916.jpg', 'c_dog.292.jpg', 'c_dog.2928.jpg', 'c_dog.2932.jpg', 'c_dog.2950.jpg', 'c_dog.2956.jpg', 'c_dog.296.jpg', 'c_dog.2963.jpg', 'c_dog.2965.jpg', 'c_dog.2970.jpg', 'c_dog.2972.jpg', 'c_dog.2974.jpg', 'c_dog.2979.jpg', 'c_dog.2980.jpg', 'c_dog.2997.jpg', 'c_dog.3014.jpg', 'c_dog.3023.jpg', 'c_dog.3027.jpg', 'c_dog.3049.jpg', 'c_dog.3052.jpg', 'c_dog.3053.jpg', 'c_dog.3057.jpg', 'c_dog.3062.jpg', 'c_dog.3066.jpg', 'c_dog.3069.jpg', 'c_dog.307.jpg', 'c_dog.3089.jpg', 'c_dog.3095.jpg', 'c_dog.3098.jpg', 'c_dog.3104.jpg', 'c_dog.3114.jpg', 'c_dog.3115.jpg', 'c_dog.3116.jpg', 'c_dog.3121.jpg', 'c_dog.3124.jpg', 'c_dog.3131.jpg', 'c_dog.314.jpg', 'c_dog.3146.jpg', 'c_dog.3154.jpg', 'c_dog.3155.jpg', 'c_dog.3157.jpg', 'c_dog.3158.jpg', 'c_dog.3171.jpg', 'c_dog.3183.jpg', 'c_dog.3185.jpg', 'c_dog.3190.jpg', 'c_dog.3191.jpg', 'c_dog.320.jpg', 'c_dog.3202.jpg', 'c_dog.3209.jpg', 'c_dog.3218.jpg', 'c_dog.3221.jpg', 'c_dog.3223.jpg', 'c_dog.323.jpg', 'c_dog.3237.jpg', 'c_dog.3244.jpg', 'c_dog.3266.jpg', 'c_dog.3272.jpg', 'c_dog.3278.jpg', 'c_dog.3279.jpg', 'c_dog.328.jpg', 'c_dog.3286.jpg', 'c_dog.3292.jpg', 'c_dog.3293.jpg', 'c_dog.3298.jpg', 'c_dog.3311.jpg', 'c_dog.3312.jpg', 'c_dog.3314.jpg', 'c_dog.332.jpg', 'c_dog.3321.jpg', 'c_dog.3322.jpg', 'c_dog.3325.jpg', 'c_dog.3327.jpg', 'c_dog.3333.jpg', 'c_dog.3336.jpg', 'c_dog.3338.jpg', 'c_dog.3339.jpg', 'c_dog.3351.jpg', 'c_dog.3354.jpg', 'c_dog.3355.jpg', 'c_dog.3363.jpg', 'c_dog.3365.jpg', 'c_dog.3369.jpg', 'c_dog.337.jpg', 'c_dog.3372.jpg', 'c_dog.3375.jpg', 'c_dog.338.jpg', 'c_dog.3382.jpg', 'c_dog.3397.jpg', 'c_dog.34.jpg', 'c_dog.3403.jpg', 'c_dog.3408.jpg', 'c_dog.3414.jpg', 'c_dog.3416.jpg', 'c_dog.3420.jpg', 'c_dog.3433.jpg', 'c_dog.3437.jpg', 'c_dog.3439.jpg', 'c_dog.3443.jpg', 'c_dog.346.jpg', 'c_dog.3467.jpg', 'c_dog.3471.jpg', 'c_dog.3473.jpg', 'c_dog.3486.jpg', 'c_dog.3487.jpg', 'c_dog.3490.jpg', 'c_dog.3521.jpg', 'c_dog.3522.jpg', 'c_dog.3523.jpg', 'c_dog.3524.jpg', 'dog.1001.jpg', 'dog.1002.jpg', 'dog.1004.jpg', 'dog.1014.jpg', 'dog.1018.jpg', 'dog.1023.jpg', 'dog.1046.jpg', 'dog.1048.jpg', 'dog.105.jpg', 'dog.1057.jpg', 'dog.1058.jpg', 'dog.1064.jpg', 'dog.1065.jpg', 'dog.107.jpg', 'dog.1076.jpg', 'dog.1079.jpg', 'dog.1083.jpg', 'dog.1090.jpg', 'dog.1091.jpg', 'dog.1095.jpg', 'dog.11.jpg', 'dog.1100.jpg', 'dog.1112.jpg', 'dog.1113.jpg', 'dog.1114.jpg', 'dog.1117.jpg', 'dog.113.jpg', 'dog.1132.jpg', 'dog.1140.jpg', 'dog.1146.jpg', 'dog.1156.jpg', 'dog.1162.jpg', 'dog.1169.jpg', 'dog.1173.jpg', 'dog.1195.jpg', 'dog.1206.jpg', 'dog.1208.jpg', 'dog.1210.jpg', 'dog.1214.jpg', 'dog.1216.jpg', 'dog.1221.jpg', 'dog.1226.jpg', 'dog.1242.jpg', 'dog.1243.jpg', 'dog.1257.jpg', 'dog.1270.jpg', 'dog.1273.jpg', 'dog.1284.jpg', 'dog.1292.jpg', 'dog.1297.jpg', 'dog.1305.jpg', 'dog.1309.jpg', 'dog.1316.jpg', 'dog.1319.jpg', 'dog.132.jpg', 'dog.1322.jpg', 'dog.1336.jpg', 'dog.1358.jpg', 'dog.136.jpg', 'dog.1365.jpg', 'dog.1366.jpg', 'dog.1381.jpg', 'dog.1386.jpg', 'dog.1396.jpg', 'dog.14.jpg', 'dog.1405.jpg', 'dog.1413.jpg', 'dog.1424.jpg', 'dog.1428.jpg', 'dog.1431.jpg', 'dog.1445.jpg', 'dog.1456.jpg', 'dog.1460.jpg', 'dog.1461.jpg', 'dog.1464.jpg', 'dog.1466.jpg', 'dog.1470.jpg', 'dog.148.jpg', 'dog.1481.jpg', 'dog.1520.jpg', 'dog.1525.jpg', 'dog.1535.jpg', 'dog.1541.jpg', 'dog.1545.jpg', 'dog.1560.jpg', 'dog.1565.jpg', 'dog.1581.jpg', 'dog.1582.jpg', 'dog.1586.jpg', 'dog.1587.jpg', 'dog.1592.jpg', 'dog.1594.jpg', 'dog.1596.jpg', 'dog.1597.jpg', 'dog.16.jpg', 'dog.160.jpg', 'dog.1602.jpg', 'dog.1603.jpg', 'dog.1604.jpg', 'dog.1607.jpg', 'dog.1615.jpg', 'dog.1619.jpg', 'dog.1639.jpg', 'dog.1640.jpg', 'dog.1641.jpg', 'dog.1644.jpg', 'dog.1649.jpg', 'dog.1651.jpg', 'dog.1652.jpg', 'dog.1657.jpg', 'dog.1662.jpg', 'dog.1665.jpg', 'dog.1682.jpg', 'dog.1684.jpg', 'dog.1689.jpg', 'dog.1694.jpg', 'dog.1695.jpg', 'dog.170.jpg', 'dog.1709.jpg', 'dog.1711.jpg', 'dog.1714.jpg', 'dog.1718.jpg', 'dog.1727.jpg', 'dog.1729.jpg', 'dog.1734.jpg', 'dog.1737.jpg', 'dog.1745.jpg', 'dog.1747.jpg', 'dog.1752.jpg', 'dog.1760.jpg', 'dog.1762.jpg', 'dog.1786.jpg', 'dog.1794.jpg', 'dog.1795.jpg', 'dog.1803.jpg', 'dog.1811.jpg', 'dog.1814.jpg', 'dog.182.jpg', 'dog.1831.jpg', 'dog.1838.jpg', 'dog.1843.jpg', 'dog.1849.jpg', 'dog.185.jpg', 'dog.1857.jpg', 'dog.1858.jpg', 'dog.1864.jpg', 'dog.1868.jpg', 'dog.1869.jpg', 'dog.187.jpg', 'dog.191.jpg', 'dog.1911.jpg', 'dog.1919.jpg', 'dog.1921.jpg', 'dog.1928.jpg', 'f0@dog.1000.jpg', 'f0@dog.1001.jpg', 'f0@dog.1003.jpg', 'f0@dog.1006.jpg', 'f0@dog.1007.jpg', 'f0@dog.1008.jpg', 'f0@dog.1018.jpg', 'f0@dog.1022.jpg', 'f0@dog.1023.jpg', 'f0@dog.1027.jpg', 'f0@dog.1028.jpg', 'f0@dog.1030.jpg', 'f0@dog.1032.jpg', 'f0@dog.1035.jpg', 'f0@dog.1043.jpg', 'f0@dog.1045.jpg', 'f0@dog.1046.jpg', 'f0@dog.105.jpg', 'f0@dog.1054.jpg', 'f0@dog.1057.jpg', 'f0@dog.1058.jpg', 'f0@dog.1064.jpg', 'f0@dog.1065.jpg', 'f0@dog.1071.jpg', 'f0@dog.1072.jpg', 'f0@dog.1074.jpg', 'f0@dog.1079.jpg', 'f0@dog.1083.jpg', 'f0@dog.1088.jpg', 'f0@dog.1091.jpg', 'f0@dog.1092.jpg', 'f0@dog.1096.jpg', 'f0@dog.110.jpg', 'f0@dog.1100.jpg', 'f0@dog.1102.jpg', 'f0@dog.1108.jpg', 'f0@dog.111.jpg', 'f0@dog.1111.jpg', 'f0@dog.1112.jpg', 'f0@dog.1123.jpg', 'f0@dog.1127.jpg', 'f0@dog.1128.jpg', 'f0@dog.1131.jpg', 'f0@dog.1132.jpg', 'f0@dog.1136.jpg', 'f0@dog.1149.jpg', 'f0@dog.1154.jpg', 'f0@dog.1156.jpg', 'f0@dog.1162.jpg', 'f0@dog.1165.jpg', 'f0@dog.1166.jpg', 'f0@dog.1168.jpg', 'f0@dog.1173.jpg', 'f0@dog.1178.jpg', 'f0@dog.1181.jpg', 'f0@dog.1183.jpg', 'f0@dog.1193.jpg', 'f0@dog.1196.jpg', 'f0@dog.1197.jpg', 'f0@dog.1202.jpg', 'f0@dog.1204.jpg', 'f0@dog.1210.jpg', 'f0@dog.1211.jpg', 'f0@dog.1212.jpg', 'f0@dog.1213.jpg', 'f0@dog.1214.jpg', 'f0@dog.1216.jpg', 'f0@dog.1217.jpg', 'f0@dog.1219.jpg', 'f0@dog.1224.jpg', 'f0@dog.1226.jpg', 'f0@dog.1227.jpg', 'f0@dog.1239.jpg', 'f0@dog.1243.jpg', 'f0@dog.1247.jpg', 'f0@dog.1249.jpg', 'f0@dog.1257.jpg', 'f0@dog.1261.jpg', 'f0@dog.1263.jpg', 'f0@dog.1264.jpg', 'f0@dog.1265.jpg', 'f0@dog.1268.jpg', 'f0@dog.1270.jpg', 'f0@dog.1277.jpg', 'f0@dog.1278.jpg', 'f0@dog.1281.jpg', 'f0@dog.1284.jpg', 'f0@dog.1285.jpg', 'f0@dog.1286.jpg', 'f0@dog.1288.jpg', 'f0@dog.1289.jpg', 'f0@dog.129.jpg', 'f0@dog.1291.jpg', 'f0@dog.1292.jpg', 'f0@dog.1293.jpg', 'f0@dog.1297.jpg', 'f0@dog.1304.jpg', 'f0@dog.1306.jpg', 'f0@dog.1308.jpg', 'f0@dog.131.jpg', 'f0@dog.1311.jpg', 'f0@dog.1316.jpg', 'f0@dog.1319.jpg', 'f0@dog.132.jpg', 'f0@dog.1320.jpg', 'f0@dog.1322.jpg', 'f0@dog.1326.jpg', 'f0@dog.1328.jpg', 'f0@dog.1333.jpg', 'f0@dog.1335.jpg', 'f0@dog.1336.jpg', 'f0@dog.1339.jpg', 'f0@dog.134.jpg', 'f0@dog.1340.jpg', 'f0@dog.1344.jpg', 'f0@dog.1345.jpg', 'f0@dog.1346.jpg', 'f0@dog.1349.jpg', 'f0@dog.1353.jpg', 'f0@dog.1359.jpg', 'f0@dog.136.jpg', 'f0@dog.1363.jpg', 'f0@dog.1366.jpg', 'f0@dog.137.jpg', 'f0@dog.1370.jpg', 'f0@dog.1371.jpg', 'f0@dog.1372.jpg', 'f0@dog.1376.jpg', 'f0@dog.1378.jpg', 'f0@dog.1379.jpg', 'f0@dog.1381.jpg', 'f0@dog.1382.jpg', 'f0@dog.1386.jpg', 'f0@dog.1394.jpg', 'f0@dog.1396.jpg', 'f0@dog.1399.jpg', 'f0@dog.14.jpg', 'f0@dog.140.jpg', 'f0@dog.1400.jpg', 'f0@dog.1406.jpg', 'f0@dog.1408.jpg', 'f0@dog.1413.jpg', 'f0@dog.1414.jpg', 'f0@dog.1417.jpg', 'f0@dog.142.jpg', 'f0@dog.1421.jpg', 'f0@dog.1424.jpg', 'f0@dog.1426.jpg', 'f0@dog.1427.jpg', 'f0@dog.1428.jpg', 'f0@dog.1429.jpg', 'f0@dog.1434.jpg', 'f0@dog.1437.jpg', 'f0@dog.144.jpg', 'f0@dog.1441.jpg', 'f0@dog.1443.jpg', 'f0@dog.1445.jpg', 'f0@dog.1454.jpg', 'f0@dog.1460.jpg', 'f0@dog.1461.jpg', 'f0@dog.1464.jpg', 'f0@dog.1466.jpg', 'f0@dog.1467.jpg', 'f0@dog.1477.jpg', 'f0@dog.1479.jpg', 'f0@dog.1481.jpg', 'f0@dog.1485.jpg', 'f0@dog.1486.jpg', 'f0@dog.1488.jpg', 'f0@dog.1489.jpg', 'f0@dog.149.jpg', 'f0@dog.1493.jpg', 'f0@dog.1496.jpg', 'f0@dog.1497.jpg', 'f0@dog.1499.jpg', 'f0@dog.150.jpg', 'f0@dog.1507.jpg', 'f0@dog.1520.jpg', 'f0@dog.1522.jpg', 'f0@dog.1523.jpg', 'f0@dog.1524.jpg', 'f0@dog.1525.jpg', 'f0@dog.1530.jpg', 'f0@dog.1533.jpg', 'f0@dog.1535.jpg', 'f0@dog.1537.jpg', 'f0@dog.1541.jpg', 'f0@dog.1543.jpg', 'f0@dog.1545.jpg', 'f0@dog.1548.jpg', 'f0@dog.1551.jpg', 'f0@dog.1555.jpg', 'f0@dog.1562.jpg', 'f0@dog.1571.jpg', 'f0@dog.1574.jpg', 'f0@dog.1578.jpg', 'f0@dog.1580.jpg', 'f0@dog.1581.jpg', 'f0@dog.1582.jpg', 'f0@dog.1584.jpg', 'f0@dog.1597.jpg', 'f0@dog.160.jpg', 'f0@dog.1601.jpg', 'f0@dog.1603.jpg', 'f0@dog.1604.jpg', 'f0@dog.1609.jpg', 'f0@dog.1614.jpg', 'f0@dog.1616.jpg', 'f0@dog.1619.jpg', 'f0@dog.1620.jpg', 'f0@dog.1621.jpg', 'f0@dog.163.jpg', 'f0@dog.1630.jpg', 'f0@dog.1633.jpg', 'f0@dog.1635.jpg', 'f0@dog.1638.jpg', 'f0@dog.1639.jpg', 'f0@dog.1642.jpg', 'f0@dog.1650.jpg', 'f0@dog.1652.jpg', 'f0@dog.1672.jpg', 'f0@dog.1673.jpg', 'f0@dog.1674.jpg', 'f0@dog.1675.jpg', 'f0@dog.1677.jpg', 'f0@dog.1684.jpg', 'f0@dog.1689.jpg', 'f0@dog.1691.jpg', 'f0@dog.1695.jpg', 'f0@dog.1699.jpg', 'f0@dog.1703.jpg', 'f0@dog.1705.jpg', 'f0@dog.1707.jpg', 'f0@dog.1709.jpg', 'f0@dog.171.jpg', 'f0@dog.1711.jpg', 'f0@dog.1712.jpg', 'f0@dog.1713.jpg', 'f0@dog.1718.jpg', 'f0@dog.1724.jpg', 'f0@dog.1725.jpg', 'f0@dog.1727.jpg', 'f0@dog.1728.jpg', 'f0@dog.1729.jpg', 'f0@dog.1730.jpg', 'f0@dog.1733.jpg', 'f0@dog.1737.jpg', 'f0@dog.1738.jpg', 'f0@dog.1739.jpg', 'f0@dog.1743.jpg', 'f0@dog.1745.jpg', 'f0@dog.1746.jpg', 'f0@dog.1748.jpg', 'f0@dog.175.jpg', 'f0@dog.1750.jpg', 'f0@dog.1751.jpg', 'f0@dog.1754.jpg', 'f0@dog.176.jpg', 'f0@dog.1760.jpg', 'f0@dog.1762.jpg', 'f0@dog.1768.jpg', 'f0@dog.1775.jpg', 'f0@dog.1779.jpg', 'f0@dog.178.jpg', 'f0@dog.1780.jpg', 'f0@dog.1782.jpg', 'f0@dog.1787.jpg', 'f0@dog.1791.jpg', 'f0@dog.1794.jpg', 'f0@dog.1795.jpg', 'f0@dog.1796.jpg', 'f0@dog.1797.jpg', 'f0@dog.1803.jpg', 'f0@dog.1806.jpg', 'f0@dog.1809.jpg', 'f0@dog.181.jpg', 'f0@dog.1811.jpg', 'f0@dog.1824.jpg', 'f0@dog.1825.jpg', 'f0@dog.183.jpg', 'f0@dog.1831.jpg', 'f0@dog.1832.jpg', 'f0@dog.1833.jpg', 'f0@dog.1835.jpg', 'f0@dog.1838.jpg', 'f0@dog.184.jpg', 'f0@dog.1842.jpg', 'f0@dog.1846.jpg', 'f0@dog.1848.jpg', 'f0@dog.1849.jpg', 'f0@dog.1856.jpg', 'f0@dog.1858.jpg', 'f0@dog.1861.jpg', 'f0@dog.1869.jpg', 'f0@dog.1870.jpg', 'f0@dog.1908.jpg', 'f0@dog.1909.jpg', 'f0@dog.191.jpg', 'f0@dog.1911.jpg', 'f0@dog.1912.jpg', 'f0@dog.1914.jpg', 'f0@dog.193.jpg', 'f0@dog.1930.jpg', 'f0@dog.1931.jpg', 'f1@dog.1002.jpg', 'f1@dog.1004.jpg', 'f1@dog.1008.jpg', 'f1@dog.1014.jpg', 'f1@dog.1018.jpg', 'f1@dog.1034.jpg', 'f1@dog.1046.jpg', 'f1@dog.1057.jpg', 'f1@dog.1058.jpg', 'f1@dog.1064.jpg', 'f1@dog.1065.jpg', 'f1@dog.1075.jpg', 'f1@dog.1083.jpg', 'f1@dog.1091.jpg', 'f1@dog.11.jpg', 'f1@dog.1100.jpg', 'f1@dog.1108.jpg', 'f1@dog.1111.jpg', 'f1@dog.1112.jpg', 'f1@dog.1113.jpg', 'f1@dog.1114.jpg', 'f1@dog.1117.jpg', 'f1@dog.113.jpg', 'f1@dog.1130.jpg', 'f1@dog.1140.jpg', 'f1@dog.1142.jpg', 'f1@dog.1149.jpg', 'f1@dog.1154.jpg', 'f1@dog.1156.jpg', 'f1@dog.1162.jpg', 'f1@dog.1169.jpg', 'f1@dog.1173.jpg', 'f1@dog.1206.jpg', 'f1@dog.1208.jpg', 'f1@dog.1213.jpg', 'f1@dog.1226.jpg', 'f1@dog.1242.jpg', 'f1@dog.1243.jpg', 'f1@dog.1257.jpg', 'f1@dog.1273.jpg', 'f1@dog.1289.jpg', 'f1@dog.1292.jpg', 'f1@dog.1297.jpg', 'f1@dog.1303.jpg', 'f1@dog.1305.jpg', 'f1@dog.1315.jpg', 'f1@dog.1316.jpg', 'f1@dog.1322.jpg', 'f1@dog.1335.jpg', 'f1@dog.1340.jpg', 'f1@dog.1346.jpg', 'f1@dog.1353.jpg', 'f1@dog.1358.jpg', 'f1@dog.136.jpg', 'f1@dog.1365.jpg', 'f1@dog.1379.jpg', 'f1@dog.1381.jpg', 'f1@dog.1389.jpg', 'f1@dog.14.jpg', 'f1@dog.1405.jpg', 'f1@dog.1410.jpg', 'f1@dog.1426.jpg', 'f1@dog.1428.jpg', 'f1@dog.1431.jpg', 'f1@dog.1441.jpg', 'f1@dog.1445.jpg', 'f1@dog.1456.jpg', 'f1@dog.1460.jpg', 'f1@dog.1461.jpg', 'f1@dog.1464.jpg', 'f1@dog.1466.jpg', 'f1@dog.1476.jpg', 'f1@dog.148.jpg', 'f1@dog.1481.jpg', 'f1@dog.1493.jpg', 'f1@dog.1504.jpg', 'f1@dog.1520.jpg', 'f1@dog.1524.jpg', 'f1@dog.1525.jpg', 'f1@dog.1534.jpg', 'f1@dog.1535.jpg', 'f1@dog.1541.jpg', 'f1@dog.1565.jpg', 'f1@dog.1580.jpg', 'f1@dog.1581.jpg', 'f1@dog.1582.jpg', 'f1@dog.1586.jpg', 'f1@dog.1587.jpg', 'f1@dog.1592.jpg', 'f1@dog.1594.jpg', 'f1@dog.1596.jpg', 'f1@dog.1597.jpg', 'f1@dog.160.jpg', 'f1@dog.1602.jpg', 'f1@dog.1603.jpg', 'f1@dog.1604.jpg', 'f1@dog.1605.jpg', 'f1@dog.1607.jpg', 'f1@dog.1619.jpg', 'f1@dog.1627.jpg', 'f1@dog.1636.jpg', 'f1@dog.1639.jpg', 'f1@dog.1641.jpg', 'f1@dog.1644.jpg', 'f1@dog.1649.jpg', 'f1@dog.1657.jpg', 'f1@dog.1665.jpg', 'f1@dog.167.jpg', 'f1@dog.1682.jpg', 'f1@dog.1684.jpg', 'f1@dog.1689.jpg', 'f1@dog.1693.jpg', 'f1@dog.1694.jpg', 'f1@dog.1695.jpg', 'f1@dog.1709.jpg', 'f1@dog.1711.jpg', 'f1@dog.1718.jpg', 'f1@dog.1734.jpg', 'f1@dog.1737.jpg', 'f1@dog.1743.jpg', 'f1@dog.1745.jpg', 'f1@dog.1747.jpg', 'f1@dog.1749.jpg', 'f1@dog.1752.jpg', 'f1@dog.176.jpg', 'f1@dog.1760.jpg', 'f1@dog.1762.jpg', 'f1@dog.1782.jpg', 'f1@dog.1786.jpg', 'f1@dog.1794.jpg', 'f1@dog.1795.jpg', 'f1@dog.1800.jpg', 'f1@dog.1803.jpg', 'f1@dog.1814.jpg', 'f1@dog.182.jpg', 'f1@dog.1823.jpg', 'f1@dog.1828.jpg', 'f1@dog.1835.jpg', 'f1@dog.1838.jpg', 'f1@dog.1843.jpg', 'f1@dog.1849.jpg', 'f1@dog.185.jpg', 'f1@dog.1857.jpg', 'f1@dog.1858.jpg', 'f1@dog.1864.jpg', 'f1@dog.1869.jpg', 'f1@dog.187.jpg', 'f1@dog.191.jpg', 'f1@dog.1919.jpg', 'f1@dog.1926.jpg', 'n@dog.1001.jpg', 'n@dog.1002.jpg', 'n@dog.1004.jpg', 'n@dog.1013.jpg', 'n@dog.1018.jpg', 'n@dog.1023.jpg', 'n@dog.1046.jpg', 'n@dog.105.jpg', 'n@dog.1052.jpg', 'n@dog.1057.jpg', 'n@dog.1058.jpg', 'n@dog.1064.jpg', 'n@dog.1065.jpg', 'n@dog.107.jpg', 'n@dog.1070.jpg', 'n@dog.1083.jpg', 'n@dog.1090.jpg', 'n@dog.1091.jpg', 'n@dog.1095.jpg', 'n@dog.11.jpg', 'n@dog.1100.jpg', 'n@dog.1112.jpg', 'n@dog.1113.jpg', 'n@dog.1114.jpg', 'n@dog.1117.jpg', 'n@dog.1119.jpg', 'n@dog.113.jpg', 'n@dog.1132.jpg', 'n@dog.1134.jpg', 'n@dog.1140.jpg', 'n@dog.1146.jpg', 'n@dog.1156.jpg', 'n@dog.1162.jpg', 'n@dog.1169.jpg', 'n@dog.1173.jpg', 'n@dog.1189.jpg', 'n@dog.1193.jpg', 'n@dog.1195.jpg', 'n@dog.120.jpg', 'n@dog.1206.jpg', 'n@dog.1208.jpg', 'n@dog.1210.jpg', 'n@dog.1214.jpg', 'n@dog.1216.jpg', 'n@dog.1221.jpg', 'n@dog.1226.jpg', 'n@dog.1242.jpg', 'n@dog.1243.jpg', 'n@dog.1257.jpg', 'n@dog.126.jpg', 'n@dog.1261.jpg', 'n@dog.1270.jpg', 'n@dog.1273.jpg', 'n@dog.1277.jpg', 'n@dog.1284.jpg', 'n@dog.1292.jpg', 'n@dog.1297.jpg', 'n@dog.1303.jpg', 'n@dog.1305.jpg', 'n@dog.1309.jpg', 'n@dog.1316.jpg', 'n@dog.1319.jpg', 'n@dog.132.jpg', 'n@dog.1322.jpg', 'n@dog.1336.jpg', 'n@dog.1341.jpg', 'n@dog.1357.jpg', 'n@dog.1358.jpg', 'n@dog.136.jpg', 'n@dog.1365.jpg', 'n@dog.1366.jpg', 'n@dog.1379.jpg', 'n@dog.1381.jpg', 'n@dog.1386.jpg', 'n@dog.1396.jpg', 'n@dog.14.jpg', 'n@dog.1402.jpg', 'n@dog.1405.jpg', 'n@dog.1413.jpg', 'n@dog.1424.jpg', 'n@dog.1428.jpg', 'n@dog.1431.jpg', 'n@dog.1440.jpg', 'n@dog.1445.jpg', 'n@dog.1456.jpg', 'n@dog.1460.jpg', 'n@dog.1461.jpg', 'n@dog.1463.jpg', 'n@dog.1466.jpg', 'n@dog.1470.jpg', 'n@dog.148.jpg', 'n@dog.1481.jpg', 'n@dog.1505.jpg', 'n@dog.1520.jpg', 'n@dog.1525.jpg', 'n@dog.1535.jpg', 'n@dog.1541.jpg', 'n@dog.1543.jpg', 'n@dog.1545.jpg', 'n@dog.1565.jpg', 'n@dog.1574.jpg', 'n@dog.1582.jpg', 'n@dog.1586.jpg', 'n@dog.1587.jpg', 'n@dog.1594.jpg', 'n@dog.1596.jpg', 'n@dog.1597.jpg', 'n@dog.16.jpg', 'n@dog.160.jpg', 'n@dog.1602.jpg', 'n@dog.1603.jpg', 'n@dog.1604.jpg', 'n@dog.1607.jpg', 'n@dog.1615.jpg', 'n@dog.1639.jpg', 'n@dog.1640.jpg', 'n@dog.1641.jpg', 'n@dog.1643.jpg', 'n@dog.1644.jpg', 'n@dog.1649.jpg', 'n@dog.1651.jpg', 'n@dog.1652.jpg', 'n@dog.1657.jpg', 'n@dog.1662.jpg', 'n@dog.1664.jpg', 'n@dog.1665.jpg', 'n@dog.1674.jpg', 'n@dog.1680.jpg', 'n@dog.1684.jpg', 'n@dog.1689.jpg', 'n@dog.1694.jpg', 'n@dog.1695.jpg', 'n@dog.170.jpg', 'n@dog.1709.jpg', 'n@dog.1711.jpg', 'n@dog.1718.jpg', 'n@dog.1727.jpg', 'n@dog.1729.jpg', 'n@dog.1734.jpg', 'n@dog.1737.jpg', 'n@dog.1745.jpg', 'n@dog.1747.jpg', 'n@dog.1752.jpg', 'n@dog.1758.jpg', 'n@dog.1760.jpg', 'n@dog.1762.jpg', 'n@dog.1785.jpg', 'n@dog.1786.jpg', 'n@dog.1794.jpg', 'n@dog.1795.jpg', 'n@dog.1806.jpg', 'n@dog.1811.jpg', 'n@dog.1814.jpg', 'n@dog.1816.jpg', 'n@dog.1818.jpg', 'n@dog.182.jpg', 'n@dog.1827.jpg', 'n@dog.1831.jpg', 'n@dog.1835.jpg', 'n@dog.1837.jpg', 'n@dog.1838.jpg', 'n@dog.1843.jpg', 'n@dog.1849.jpg', 'n@dog.185.jpg', 'n@dog.1857.jpg', 'n@dog.1858.jpg', 'n@dog.1864.jpg', 'n@dog.1868.jpg', 'n@dog.1869.jpg', 'n@dog.187.jpg', 'n@dog.191.jpg', 'n@dog.1911.jpg', 'n@dog.1919.jpg', 'n@dog.1921.jpg', 'n@dog.1926.jpg', 'n@dog.1928.jpg', 'rot@dog.1001.jpg', 'rot@dog.1002.jpg', 'rot@dog.1008.jpg', 'rot@dog.1021.jpg', 'rot@dog.1023.jpg', 'rot@dog.1029.jpg', 'rot@dog.1030.jpg', 'rot@dog.1034.jpg', 'rot@dog.1035.jpg', 'rot@dog.1040.jpg', 'rot@dog.1042.jpg', 'rot@dog.1046.jpg', 'rot@dog.1054.jpg', 'rot@dog.1057.jpg', 'rot@dog.1059.jpg', 'rot@dog.1064.jpg', 'rot@dog.1065.jpg', 'rot@dog.1074.jpg', 'rot@dog.1075.jpg', 'rot@dog.1078.jpg', 'rot@dog.1083.jpg', 'rot@dog.1085.jpg', 'rot@dog.1091.jpg', 'rot@dog.1102.jpg', 'rot@dog.1108.jpg', 'rot@dog.1112.jpg', 'rot@dog.1117.jpg', 'rot@dog.112.jpg', 'rot@dog.1126.jpg', 'rot@dog.1132.jpg', 'rot@dog.1140.jpg', 'rot@dog.1146.jpg', 'rot@dog.1156.jpg', 'rot@dog.1157.jpg', 'rot@dog.1165.jpg', 'rot@dog.1171.jpg', 'rot@dog.1173.jpg', 'rot@dog.1188.jpg', 'rot@dog.1189.jpg', 'rot@dog.1193.jpg', 'rot@dog.1195.jpg', 'rot@dog.1198.jpg', 'rot@dog.1208.jpg', 'rot@dog.1209.jpg', 'rot@dog.1210.jpg', 'rot@dog.1211.jpg', 'rot@dog.1218.jpg', 'rot@dog.1226.jpg', 'rot@dog.1233.jpg', 'rot@dog.1240.jpg', 'rot@dog.1242.jpg', 'rot@dog.1243.jpg', 'rot@dog.1246.jpg', 'rot@dog.1259.jpg', 'rot@dog.1268.jpg', 'rot@dog.1281.jpg', 'rot@dog.1282.jpg', 'rot@dog.1284.jpg', 'rot@dog.129.jpg', 'rot@dog.1292.jpg', 'rot@dog.1295.jpg', 'rot@dog.1299.jpg', 'rot@dog.1304.jpg', 'rot@dog.1315.jpg', 'rot@dog.1316.jpg', 'rot@dog.1319.jpg', 'rot@dog.1320.jpg', 'rot@dog.1322.jpg', 'rot@dog.1334.jpg', 'rot@dog.1340.jpg', 'rot@dog.1346.jpg', 'rot@dog.1353.jpg', 'rot@dog.1359.jpg', 'rot@dog.1377.jpg', 'rot@dog.1379.jpg', 'rot@dog.1381.jpg', 'rot@dog.1386.jpg', 'rot@dog.1393.jpg', 'rot@dog.14.jpg', 'rot@dog.1405.jpg', 'rot@dog.1413.jpg', 'rot@dog.1428.jpg', 'rot@dog.1443.jpg', 'rot@dog.1456.jpg', 'rot@dog.1460.jpg', 'rot@dog.1462.jpg', 'rot@dog.1464.jpg', 'rot@dog.1466.jpg', 'rot@dog.1469.jpg', 'rot@dog.1478.jpg', 'rot@dog.1483.jpg', 'rot@dog.1486.jpg', 'rot@dog.1488.jpg', 'rot@dog.149.jpg', 'rot@dog.1493.jpg', 'rot@dog.1496.jpg', 'rot@dog.1501.jpg', 'rot@dog.1503.jpg', 'rot@dog.1510.jpg', 'rot@dog.1520.jpg', 'rot@dog.1524.jpg', 'rot@dog.1537.jpg', 'rot@dog.1549.jpg', 'rot@dog.1550.jpg', 'rot@dog.1561.jpg', 'rot@dog.1565.jpg', 'rot@dog.158.jpg', 'rot@dog.1580.jpg', 'rot@dog.1582.jpg', 'rot@dog.1594.jpg', 'rot@dog.1596.jpg', 'rot@dog.1599.jpg', 'rot@dog.1601.jpg', 'rot@dog.1602.jpg', 'rot@dog.1614.jpg', 'rot@dog.1619.jpg', 'rot@dog.1628.jpg', 'rot@dog.1631.jpg', 'rot@dog.1636.jpg', 'rot@dog.1639.jpg', 'rot@dog.1643.jpg', 'rot@dog.1644.jpg', 'rot@dog.1646.jpg', 'rot@dog.1653.jpg', 'rot@dog.1661.jpg', 'rot@dog.1662.jpg', 'rot@dog.1665.jpg', 'rot@dog.167.jpg', 'rot@dog.1673.jpg', 'rot@dog.1678.jpg', 'rot@dog.1682.jpg', 'rot@dog.1684.jpg', 'rot@dog.1695.jpg', 'rot@dog.17.jpg', 'rot@dog.1703.jpg', 'rot@dog.1705.jpg', 'rot@dog.1709.jpg', 'rot@dog.1711.jpg', 'rot@dog.1713.jpg', 'rot@dog.1715.jpg', 'rot@dog.1720.jpg', 'rot@dog.1726.jpg', 'rot@dog.1735.jpg', 'rot@dog.1738.jpg', 'rot@dog.1741.jpg', 'rot@dog.1743.jpg', 'rot@dog.1745.jpg', 'rot@dog.1749.jpg', 'rot@dog.1751.jpg', 'rot@dog.1752.jpg', 'rot@dog.1756.jpg', 'rot@dog.1757.jpg', 'rot@dog.1759.jpg', 'rot@dog.1760.jpg', 'rot@dog.1761.jpg', 'rot@dog.1762.jpg', 'rot@dog.1765.jpg', 'rot@dog.1769.jpg', 'rot@dog.1774.jpg', 'rot@dog.1778.jpg', 'rot@dog.1780.jpg', 'rot@dog.1786.jpg', 'rot@dog.1794.jpg', 'rot@dog.1795.jpg', 'rot@dog.1806.jpg', 'rot@dog.1808.jpg', 'rot@dog.1816.jpg', 'rot@dog.1818.jpg', 'rot@dog.1824.jpg', 'rot@dog.183.jpg', 'rot@dog.1832.jpg', 'rot@dog.1835.jpg', 'rot@dog.1836.jpg', 'rot@dog.1838.jpg', 'rot@dog.1842.jpg', 'rot@dog.1844.jpg', 'rot@dog.1845.jpg', 'rot@dog.1850.jpg', 'rot@dog.1858.jpg', 'rot@dog.1859.jpg', 'rot@dog.1865.jpg', 'rot@dog.1867.jpg', 'rot@dog.187.jpg', 'rot@dog.1870.jpg', 'rot@dog.1907.jpg', 'rot@dog.1908.jpg', 'rot@dog.191.jpg', 'rot@dog.1914.jpg', 'rot@dog.1923.jpg', 'rot@dog.1926.jpg', 'rot@dog.1927.jpg', 'rot@dog.193.jpg']\n",
      "['c_dog.1003.jpg', 'dog.1003.jpg']\n",
      "['c_dog.1005.jpg', 'dog.1005.jpg']\n",
      "['c_dog.1006.jpg', 'dog.1006.jpg']\n",
      "['c_dog.1007.jpg', 'dog.1007.jpg']\n",
      "['c_dog.1008.jpg', 'c_dog.1676.jpg', 'c_dog.1680.jpg', 'c_dog.2268.jpg', 'c_dog.2273.jpg', 'c_dog.2805.jpg', 'c_dog.3112.jpg', 'c_dog.3299.jpg', 'c_dog.3499.jpg', 'dog.1008.jpg', 'dog.1676.jpg', 'dog.1680.jpg', 'f0@dog.1260.jpg', 'f1@dog.1184.jpg', 'f1@dog.1318.jpg', 'n@dog.1008.jpg', 'n@dog.167.jpg', 'n@dog.1676.jpg', 'rot@dog.1155.jpg']\n",
      "['c_dog.1009.jpg', 'dog.1009.jpg']\n",
      "['c_dog.101.jpg', 'dog.101.jpg']\n",
      "['c_dog.1010.jpg', 'dog.1010.jpg']\n",
      "['c_dog.1011.jpg', 'dog.1011.jpg', 'n@dog.1011.jpg']\n",
      "['c_dog.1012.jpg', 'dog.1012.jpg', 'n@dog.1012.jpg']\n",
      "['c_dog.1013.jpg', 'c_dog.2350.jpg', 'c_dog.3176.jpg', 'dog.1013.jpg', 'f0@dog.1612.jpg', 'f0@dog.1793.jpg', 'f0@dog.1929.jpg', 'n@dog.1087.jpg', 'n@dog.1464.jpg', 'rot@dog.1061.jpg', 'rot@dog.1444.jpg']\n",
      "['c_dog.1015.jpg', 'dog.1015.jpg']\n",
      "['c_dog.1016.jpg', 'dog.1016.jpg']\n",
      "['c_dog.1017.jpg', 'dog.1017.jpg']\n",
      "['c_dog.1019.jpg', 'dog.1019.jpg', 'n@dog.1019.jpg']\n",
      "['c_dog.102.jpg', 'dog.102.jpg']\n"
     ]
    }
   ],
   "source": [
    "# Analyzing the results\n",
    "duplicated_names = 0\n",
    "duplicated_items = 0\n",
    "total_images =0 \n",
    "for keys in duplicated.keys():\n",
    "    total_images+=1\n",
    "    if(len(duplicated[keys]) >= 2):\n",
    "        duplicated_names+=1\n",
    "        duplicated_items += len(duplicated[keys])\n",
    "        # Printing some duplicate names\n",
    "        if(duplicated_names <= 20 ):\n",
    "            print(duplicated[keys])\n",
    "# # Saving the result\n",
    "with open('pHash.csv', 'w') as f:\n",
    "    for key in duplicated.keys():\n",
    "        for elem in duplicated[key]:\n",
    "            f.write(\"%s,\"%(elem))\n",
    "        f.write(\"\\n\")"
   ]
  },
  {
   "cell_type": "code",
   "execution_count": 12,
   "metadata": {},
   "outputs": [],
   "source": [
    "x =['c_dog.1000.jpg', 'c_dog.3137.jpg', 'dog.1000.jpg', 'f0@dog.1816.jpg', 'f1@dog.1408.jpg', 'n@dog.1000.jpg']\n",
    "for item in x:\n",
    "    curr_img = cv2.imread('aug_dogs/' + item)\n",
    "    cv2.imshow('img',curr_img)\n",
    "    cv2.waitKey(0)\n",
    "    cv2.destroyAllWindows()"
   ]
  },
  {
   "cell_type": "code",
   "execution_count": 13,
   "metadata": {},
   "outputs": [
    {
     "name": "stdout",
     "output_type": "stream",
     "text": [
      "3746 853 4921\n"
     ]
    }
   ],
   "source": [
    "print(total_images,duplicated_names,duplicated_items)"
   ]
  },
  {
   "cell_type": "markdown",
   "metadata": {},
   "source": [
    "Acc to pHash , there are a total of 3746 unique images with 853 duplicated images over 4921 times\n",
    "<strong> \n",
    "    This Does not look correct as I have visualized the results and they dont look correct( However there is a change that i could have analysed the misclassifications )\n",
    "</strong>\n",
    "This Could be corrected if we use similiarity between hamming codes , but that would help us in finding whether two images are similar or not , it will not help us in grouping all the images which are duplicates\n",
    "\n",
    "or it could be that pHash tries to find generalization in images"
   ]
  },
  {
   "cell_type": "markdown",
   "metadata": {},
   "source": [
    "# using dHash\n",
    "\n",
    "1. Import Images\n",
    "2. Reduce there sizes to 9x8\n",
    "3. convert image to grayscale\n",
    "4. Averaging the color\n",
    "5. from index 1 .. 8 compare each cell in each row , with its previous cell in the same row , assign bit values on the relative magnitude of these 2 values"
   ]
  },
  {
   "cell_type": "code",
   "execution_count": 14,
   "metadata": {},
   "outputs": [],
   "source": [
    "# Importing images\n",
    "\n",
    "img = []   # Names of the images\n",
    "names = [] # Names of image files\n",
    "ctr =0\n",
    "for dog in os.listdir('aug_dogs'):\n",
    "    names.append(dog)\n",
    "    ctr+=1\n",
    "    filePath = os.path.join('aug_dogs/',dog)\n",
    "    dogImg = cv2.imread(filePath)\n",
    "    #Converting image to gray scale\n",
    "    dogImgGrayScale = cv2.cvtColor(dogImg,cv2.COLOR_BGR2GRAY)\n",
    "    #Resizing image\n",
    "    dogImgResized = cv2.resize(dogImgGrayScale,(9,8))\n",
    "    img.append(dogImgResized)"
   ]
  },
  {
   "cell_type": "code",
   "execution_count": 15,
   "metadata": {},
   "outputs": [],
   "source": [
    "#Computing hash values for each img\n",
    "dHash  =[]\n",
    "for dog in img:\n",
    "    \n",
    "    x1 = dog[:,0:8]\n",
    "    x2 = dog[:,1:9]\n",
    "\n",
    "    gradient = np.array((x1>x2),dtype = 'int')    \n",
    "    gradient = gradient.reshape((-1,))\n",
    "    binVal = ''.join(str(x) for x in gradient)\n",
    "    hashVal = hex(int(binVal, 2)) # for reference\n",
    "    dHash.append(binVal)\n"
   ]
  },
  {
   "cell_type": "code",
   "execution_count": 16,
   "metadata": {},
   "outputs": [],
   "source": [
    "# Making a dictionary of values having same bits\n",
    "duplicated = {}\n",
    "for i in range(len(names)):\n",
    "    curr_name = names[i]\n",
    "    curr_hash = dHash[i]\n",
    "    try:\n",
    "        duplicated[curr_hash].append(curr_name)\n",
    "    except:\n",
    "        duplicated[curr_hash] = []\n",
    "        duplicated[curr_hash].append(curr_name)"
   ]
  },
  {
   "cell_type": "code",
   "execution_count": 17,
   "metadata": {},
   "outputs": [
    {
     "name": "stdout",
     "output_type": "stream",
     "text": [
      "['c_dog.10.jpg', 'dog.10.jpg']\n",
      "['c_dog.100.jpg', 'dog.100.jpg', 'n@dog.100.jpg']\n",
      "['c_dog.1000.jpg', 'dog.1000.jpg']\n",
      "['c_dog.1001.jpg', 'dog.1001.jpg']\n",
      "['c_dog.1002.jpg', 'dog.1002.jpg']\n",
      "['c_dog.1003.jpg', 'dog.1003.jpg']\n",
      "['c_dog.1004.jpg', 'dog.1004.jpg']\n",
      "['c_dog.1005.jpg', 'dog.1005.jpg']\n",
      "['c_dog.1006.jpg', 'dog.1006.jpg']\n",
      "['c_dog.1007.jpg', 'dog.1007.jpg']\n",
      "['c_dog.1008.jpg', 'dog.1008.jpg']\n",
      "['c_dog.1009.jpg', 'dog.1009.jpg']\n",
      "['c_dog.101.jpg', 'dog.101.jpg']\n",
      "['c_dog.1010.jpg', 'dog.1010.jpg']\n",
      "['c_dog.1011.jpg', 'dog.1011.jpg']\n",
      "['c_dog.1012.jpg', 'dog.1012.jpg', 'n@dog.1012.jpg']\n",
      "['c_dog.1013.jpg', 'dog.1013.jpg']\n",
      "['c_dog.1014.jpg', 'dog.1014.jpg']\n",
      "['c_dog.1015.jpg', 'dog.1015.jpg']\n",
      "['c_dog.1016.jpg', 'dog.1016.jpg']\n"
     ]
    }
   ],
   "source": [
    "# Analyzing the results\n",
    "duplicated_names = 0\n",
    "duplicated_items = 0\n",
    "total_images =0 \n",
    "for keys in duplicated.keys():\n",
    "    total_images+=1\n",
    "    if(len(duplicated[keys]) >= 2):\n",
    "        duplicated_names+=1\n",
    "        duplicated_items += len(duplicated[keys])\n",
    "        # Printing some duplicate names\n",
    "        if(duplicated_names <= 20 ):\n",
    "            print(duplicated[keys])\n",
    "        \n",
    "# # Saving the result\n",
    "with open('dHash.csv', 'w') as f:\n",
    "    for key in duplicated.keys():\n",
    "        for elem in duplicated[key]:\n",
    "            f.write(\"%s,\"%(elem))\n",
    "        f.write(\"\\n\")"
   ]
  },
  {
   "cell_type": "code",
   "execution_count": 18,
   "metadata": {},
   "outputs": [
    {
     "name": "stdout",
     "output_type": "stream",
     "text": [
      "6700\n",
      "1001\n",
      "2115\n"
     ]
    }
   ],
   "source": [
    "print(total_images)\n",
    "print(duplicated_names)\n",
    "print(duplicated_items)"
   ]
  },
  {
   "cell_type": "markdown",
   "metadata": {},
   "source": [
    "A total of 1001 images out of 6700 have been duplicated a total of 2115 times"
   ]
  },
  {
   "cell_type": "markdown",
   "metadata": {},
   "source": [
    "<h3> Conclusions </h3>\n",
    "<hr>\n",
    "1.aHash -  Our analysis using aHash reveals that there are a total of 1001 uniques images(out of 6432 unique images) which have been duplicated a grand total of 2383 \n",
    "\n",
    "2.pHash - Acc to pHash , there are a total of 3746 unique images with 853 duplicated images over 4921 times This Does not look correct as I have visualized the results and they dont look correct( However there is a change that i could have analysed the misclassifications ) This Could be corrected if we use similiarity between hamming codes , but that would help us in finding whether two images are similar or not , it will not help us in grouping all the images which are duplicates\n",
    "\n",
    "3.dHash - A total of 1001 images out of 6700 have been duplicated a total of 2115 times"
   ]
  }
 ],
 "metadata": {
  "kernelspec": {
   "display_name": "Python 3.7 (tensorflow)",
   "language": "python",
   "name": "tensorflow"
  },
  "language_info": {
   "codemirror_mode": {
    "name": "ipython",
    "version": 3
   },
   "file_extension": ".py",
   "mimetype": "text/x-python",
   "name": "python",
   "nbconvert_exporter": "python",
   "pygments_lexer": "ipython3",
   "version": "3.7.9"
  }
 },
 "nbformat": 4,
 "nbformat_minor": 4
}
