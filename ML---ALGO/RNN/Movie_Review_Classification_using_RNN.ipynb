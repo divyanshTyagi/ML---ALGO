{
  "nbformat": 4,
  "nbformat_minor": 0,
  "metadata": {
    "colab": {
      "name": "Movie Review Classification using RNN.ipynb",
      "provenance": [],
      "authorship_tag": "ABX9TyM+paI/ql3dVw99+sdrrcDM",
      "include_colab_link": true
    },
    "kernelspec": {
      "name": "python3",
      "display_name": "Python 3"
    },
    "accelerator": "GPU"
  },
  "cells": [
    {
      "cell_type": "markdown",
      "metadata": {
        "id": "view-in-github",
        "colab_type": "text"
      },
      "source": [
        "<a href=\"https://colab.research.google.com/github/divyanshTyagi/ML---ALGO/blob/master/ML---ALGO/RNN/Movie_Review_Classification_using_RNN.ipynb\" target=\"_parent\"><img src=\"https://colab.research.google.com/assets/colab-badge.svg\" alt=\"Open In Colab\"/></a>"
      ]
    },
    {
      "cell_type": "code",
      "metadata": {
        "id": "1UWRO7qi9jJ2"
      },
      "source": [
        "import numpy as np\n",
        "import matplotlib.pyplot as plt\n",
        "from keras.datasets import imdb"
      ],
      "execution_count": 1,
      "outputs": []
    },
    {
      "cell_type": "code",
      "metadata": {
        "id": "eYfWepLz-RDD",
        "outputId": "0eb20428-c5d8-4704-8989-589e36e07afa",
        "colab": {
          "base_uri": "https://localhost:8080/",
          "height": 51
        }
      },
      "source": [
        "(X_train,y_train),(X_test,y_test) = imdb.load_data(num_words = 10000)"
      ],
      "execution_count": 2,
      "outputs": [
        {
          "output_type": "stream",
          "text": [
            "Downloading data from https://storage.googleapis.com/tensorflow/tf-keras-datasets/imdb.npz\n",
            "17465344/17464789 [==============================] - 0s 0us/step\n"
          ],
          "name": "stdout"
        }
      ]
    },
    {
      "cell_type": "code",
      "metadata": {
        "id": "lk3pTMPr-RFU",
        "outputId": "8e7223c9-fc58-44be-cad1-4a3b5b9c0400",
        "colab": {
          "base_uri": "https://localhost:8080/",
          "height": 51
        }
      },
      "source": [
        "# Getting the word index\n",
        "word_idx = imdb.get_word_index()"
      ],
      "execution_count": 3,
      "outputs": [
        {
          "output_type": "stream",
          "text": [
            "Downloading data from https://storage.googleapis.com/tensorflow/tf-keras-datasets/imdb_word_index.json\n",
            "1646592/1641221 [==============================] - 0s 0us/step\n"
          ],
          "name": "stdout"
        }
      ]
    },
    {
      "cell_type": "code",
      "metadata": {
        "id": "hgp6i-kA-RNq"
      },
      "source": [
        "#Putting an embedding layer for the rnn model \n",
        "from keras.preprocessing import sequence\n",
        "\n",
        "X_train = sequence.pad_sequences(X_train,maxlen = 500)\n",
        "X_test = sequence.pad_sequences(X_test,maxlen = 500)"
      ],
      "execution_count": 4,
      "outputs": []
    },
    {
      "cell_type": "code",
      "metadata": {
        "id": "GnNpwmrNCdfm",
        "outputId": "fbe66c5d-de03-4895-f5ce-896852d40735",
        "colab": {
          "base_uri": "https://localhost:8080/",
          "height": 34
        }
      },
      "source": [
        "X_test.shape"
      ],
      "execution_count": 5,
      "outputs": [
        {
          "output_type": "execute_result",
          "data": {
            "text/plain": [
              "(25000, 500)"
            ]
          },
          "metadata": {
            "tags": []
          },
          "execution_count": 5
        }
      ]
    },
    {
      "cell_type": "code",
      "metadata": {
        "id": "_ElPz_2wDkzE",
        "outputId": "d1a9af10-9ebf-460c-87eb-9c1a415e7454",
        "colab": {
          "base_uri": "https://localhost:8080/",
          "height": 255
        }
      },
      "source": [
        "from keras.layers import Embedding\n",
        "from keras.models import Sequential\n",
        "from keras.layers import *\n",
        "\n",
        "\n",
        "model = Sequential()\n",
        "model.add(Embedding(input_dim=10000,output_dim = 64 ))\n",
        "model.add(SimpleRNN(32)) #  We passed the shape or number of dimensions of the activation layer\n",
        "# why are we not using input_length = 500 ?\n",
        "model.add(Dense(1,activation = 'sigmoid'))\n",
        "model.summary()"
      ],
      "execution_count": 6,
      "outputs": [
        {
          "output_type": "stream",
          "text": [
            "Model: \"sequential\"\n",
            "_________________________________________________________________\n",
            "Layer (type)                 Output Shape              Param #   \n",
            "=================================================================\n",
            "embedding (Embedding)        (None, None, 64)          640000    \n",
            "_________________________________________________________________\n",
            "simple_rnn (SimpleRNN)       (None, 32)                3104      \n",
            "_________________________________________________________________\n",
            "dense (Dense)                (None, 1)                 33        \n",
            "=================================================================\n",
            "Total params: 643,137\n",
            "Trainable params: 643,137\n",
            "Non-trainable params: 0\n",
            "_________________________________________________________________\n"
          ],
          "name": "stdout"
        }
      ]
    },
    {
      "cell_type": "code",
      "metadata": {
        "id": "kHm8weq-Jb1s",
        "outputId": "615faa93-cf5c-4f6d-c18d-dc5779b1de76",
        "colab": {
          "base_uri": "https://localhost:8080/",
          "height": 377
        }
      },
      "source": [
        "model.compile(optimizer='adam',loss = 'binary_crossentropy',metrics = ['accuracy'])\n",
        "hist = model.fit(X_train,y_train,epochs = 10,validation_split=.2,batch_size = 128 )"
      ],
      "execution_count": 7,
      "outputs": [
        {
          "output_type": "stream",
          "text": [
            "Epoch 1/10\n",
            "157/157 [==============================] - 54s 346ms/step - loss: 0.5253 - accuracy: 0.7390 - val_loss: 0.3808 - val_accuracy: 0.8428\n",
            "Epoch 2/10\n",
            "157/157 [==============================] - 54s 341ms/step - loss: 0.3184 - accuracy: 0.8726 - val_loss: 0.3320 - val_accuracy: 0.8662\n",
            "Epoch 3/10\n",
            "157/157 [==============================] - 57s 360ms/step - loss: 0.2126 - accuracy: 0.9222 - val_loss: 0.3676 - val_accuracy: 0.8396\n",
            "Epoch 4/10\n",
            "157/157 [==============================] - 56s 354ms/step - loss: 0.2045 - accuracy: 0.9218 - val_loss: 0.4359 - val_accuracy: 0.8154\n",
            "Epoch 5/10\n",
            "157/157 [==============================] - 56s 356ms/step - loss: 0.0885 - accuracy: 0.9731 - val_loss: 0.4186 - val_accuracy: 0.8452\n",
            "Epoch 6/10\n",
            "157/157 [==============================] - 54s 345ms/step - loss: 0.0341 - accuracy: 0.9930 - val_loss: 0.4836 - val_accuracy: 0.8460\n",
            "Epoch 7/10\n",
            "157/157 [==============================] - 54s 347ms/step - loss: 0.0158 - accuracy: 0.9977 - val_loss: 0.5356 - val_accuracy: 0.8384\n",
            "Epoch 8/10\n",
            "157/157 [==============================] - 55s 353ms/step - loss: 0.0079 - accuracy: 0.9992 - val_loss: 0.5486 - val_accuracy: 0.8518\n",
            "Epoch 9/10\n",
            "157/157 [==============================] - 56s 354ms/step - loss: 0.0040 - accuracy: 0.9998 - val_loss: 0.5735 - val_accuracy: 0.8572\n",
            "Epoch 10/10\n",
            "157/157 [==============================] - 57s 364ms/step - loss: 0.0112 - accuracy: 0.9967 - val_loss: 0.7379 - val_accuracy: 0.7730\n"
          ],
          "name": "stdout"
        }
      ]
    },
    {
      "cell_type": "code",
      "metadata": {
        "id": "x3_g2fiBDk1z"
      },
      "source": [
        ""
      ],
      "execution_count": null,
      "outputs": []
    }
  ]
}