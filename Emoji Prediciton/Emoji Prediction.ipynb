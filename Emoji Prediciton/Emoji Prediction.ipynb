{
 "cells": [
  {
   "cell_type": "code",
   "execution_count": 31,
   "metadata": {},
   "outputs": [],
   "source": [
    "import emoji\n",
    "import nltk\n",
    "import pandas as pd\n",
    "import numpy as np\n",
    "import matplotlib.pyplot as plt\n",
    "import nltk\n",
    "from nltk.corpus import stopwords\n",
    "from nltk.stem.porter import PorterStemmer\n",
    "import tensorflow\n",
    "from tensorflow.keras import Model\n",
    "from tensorflow import keras as keras\n",
    "from tensorflow.keras import Sequential\n",
    "from tensorflow.keras.layers import *\n",
    "from tensorflow.keras import utils "
   ]
  },
  {
   "cell_type": "code",
   "execution_count": 2,
   "metadata": {},
   "outputs": [],
   "source": [
    "emojiset = {0: \"\\u2764\\uFE0F\",    # :heart: prints a black instead of red heart depending on the font\n",
    "            1: \":baseball:\",\n",
    "            2: \":beaming_face_with_smiling_eyes:\",\n",
    "            3: \":downcast_face_with_sweat:\",\n",
    "            4: \":fork_and_knife:\",\n",
    "            }\n",
    "\n",
    "df_train = pd.read_csv('train_emoji.csv',header = None)\n",
    "df_test = pd.read_csv('test_emoji.csv',header = None)"
   ]
  },
  {
   "cell_type": "code",
   "execution_count": 3,
   "metadata": {},
   "outputs": [],
   "source": [
    "embedding = {}\n",
    "with open('glove.6B.50d.txt',encoding = 'utf8') as f:\n",
    "    for line in f:\n",
    "        vec = line.split()\n",
    "        embedding[vec[0]] = np.asarray(vec[1:])        "
   ]
  },
  {
   "cell_type": "code",
   "execution_count": 4,
   "metadata": {},
   "outputs": [],
   "source": [
    "# Basic text preprocessing \n",
    "X_train = df_train.loc[:,0].values.copy()\n",
    "y_train = df_train.loc[:,1].values.copy()\n",
    "for i in range(X_train.shape[0]):\n",
    "    sentence = X_train[i]\n",
    "    l = np.array(sentence.lower().split())\n",
    "    X_train[i] = np.array(l)\n",
    "X_train = np.array(X_train)\n",
    "y_train = utils.to_categorical(y_train,5)"
   ]
  },
  {
   "cell_type": "code",
   "execution_count": 5,
   "metadata": {},
   "outputs": [],
   "source": [
    "# Basic text preprocessing \n",
    "X_test = df_test.loc[:,0].values.copy()\n",
    "y_test = df_test.loc[:,1].values.copy()\n",
    "for i in range(X_test.shape[0]):\n",
    "    sentence = X_test[i]\n",
    "    l = np.array(sentence.lower().split())\n",
    "    X_test[i] = np.array(l)\n",
    "X_test = np.array(X_test)\n",
    "y_test = utils.to_categorical(y_test,5)"
   ]
  },
  {
   "cell_type": "code",
   "execution_count": 32,
   "metadata": {},
   "outputs": [],
   "source": [
    "def embedding_output(X,maxLen):\n",
    "    out = np.zeros((X.shape[0],maxLen,50)) # 50 is embedding dimenstion\n",
    "    for i in range(X.shape[0]):\n",
    "        temp = X[i].copy()\n",
    "        for idx,word in enumerate(temp):\n",
    "            if(idx >= 50):\n",
    "                break\n",
    "            out[i][idx] = embedding[word]\n",
    "    return out"
   ]
  },
  {
   "cell_type": "code",
   "execution_count": 7,
   "metadata": {},
   "outputs": [],
   "source": [
    "X_train = embedding_output(X_train,10)\n",
    "X_test = embedding_output(X_test,10)"
   ]
  },
  {
   "cell_type": "code",
   "execution_count": 8,
   "metadata": {},
   "outputs": [],
   "source": [
    "# Define model architecture RNN/LSTM Model"
   ]
  },
  {
   "cell_type": "code",
   "execution_count": 9,
   "metadata": {},
   "outputs": [],
   "source": [
    "callbacks = [\n",
    "    tensorflow.keras.callbacks.ModelCheckpoint(filepath='best_model.h5',\n",
    "                                     monitor = 'val_loss',\n",
    "                                     save_weights_only = True,\n",
    "                                     save_best_only = True\n",
    "                                )\n",
    "    ]"
   ]
  },
  {
   "cell_type": "code",
   "execution_count": 21,
   "metadata": {},
   "outputs": [],
   "source": [
    "model = Sequential()\n",
    "model.add(LSTM(64,input_shape = (10,50),return_sequences=True))\n",
    "model.add(Dropout(.5))\n",
    "model.add(LSTM(64,return_sequences = False))\n",
    "model.add(Dropout(.5))\n",
    "model.add(Dense(5,activation = 'softmax'))\n",
    "model.compile(optimizer = 'adam',loss = 'categorical_crossentropy',metrics = ['accuracy'])"
   ]
  },
  {
   "cell_type": "code",
   "execution_count": 22,
   "metadata": {
    "scrolled": true
   },
   "outputs": [
    {
     "name": "stdout",
     "output_type": "stream",
     "text": [
      "Model: \"sequential_1\"\n",
      "_________________________________________________________________\n",
      "Layer (type)                 Output Shape              Param #   \n",
      "=================================================================\n",
      "lstm_2 (LSTM)                (None, 10, 64)            29440     \n",
      "_________________________________________________________________\n",
      "dropout_2 (Dropout)          (None, 10, 64)            0         \n",
      "_________________________________________________________________\n",
      "lstm_3 (LSTM)                (None, 64)                33024     \n",
      "_________________________________________________________________\n",
      "dropout_3 (Dropout)          (None, 64)                0         \n",
      "_________________________________________________________________\n",
      "dense_1 (Dense)              (None, 5)                 325       \n",
      "=================================================================\n",
      "Total params: 62,789\n",
      "Trainable params: 62,789\n",
      "Non-trainable params: 0\n",
      "_________________________________________________________________\n"
     ]
    }
   ],
   "source": [
    "model.summary()"
   ]
  },
  {
   "cell_type": "code",
   "execution_count": 23,
   "metadata": {},
   "outputs": [
    {
     "name": "stdout",
     "output_type": "stream",
     "text": [
      "Train on 105 samples, validate on 27 samples\n",
      "Epoch 1/150\n",
      "105/105 [==============================] - 3s 28ms/sample - loss: 1.6276 - accuracy: 0.2381 - val_loss: 1.5998 - val_accuracy: 0.1852\n",
      "Epoch 2/150\n",
      "105/105 [==============================] - 0s 380us/sample - loss: 1.5971 - accuracy: 0.2476 - val_loss: 1.5955 - val_accuracy: 0.2222\n",
      "Epoch 3/150\n",
      "105/105 [==============================] - 0s 399us/sample - loss: 1.5570 - accuracy: 0.3429 - val_loss: 1.5957 - val_accuracy: 0.2222\n",
      "Epoch 4/150\n",
      "105/105 [==============================] - 0s 361us/sample - loss: 1.5051 - accuracy: 0.4286 - val_loss: 1.5992 - val_accuracy: 0.2593\n",
      "Epoch 5/150\n",
      "105/105 [==============================] - 0s 380us/sample - loss: 1.4724 - accuracy: 0.4476 - val_loss: 1.6051 - val_accuracy: 0.2963\n",
      "Epoch 6/150\n",
      "105/105 [==============================] - 0s 427us/sample - loss: 1.4386 - accuracy: 0.4476 - val_loss: 1.6217 - val_accuracy: 0.2963\n",
      "Epoch 7/150\n",
      "105/105 [==============================] - 0s 446us/sample - loss: 1.4269 - accuracy: 0.3810 - val_loss: 1.6407 - val_accuracy: 0.2963\n",
      "Epoch 8/150\n",
      "105/105 [==============================] - 0s 370us/sample - loss: 1.4099 - accuracy: 0.4190 - val_loss: 1.6530 - val_accuracy: 0.1852\n",
      "Epoch 9/150\n",
      "105/105 [==============================] - 0s 408us/sample - loss: 1.3915 - accuracy: 0.4476 - val_loss: 1.6452 - val_accuracy: 0.2222\n",
      "Epoch 10/150\n",
      "105/105 [==============================] - 0s 351us/sample - loss: 1.3447 - accuracy: 0.4286 - val_loss: 1.6242 - val_accuracy: 0.2222\n",
      "Epoch 11/150\n",
      "105/105 [==============================] - 0s 361us/sample - loss: 1.2963 - accuracy: 0.4857 - val_loss: 1.5826 - val_accuracy: 0.2593\n",
      "Epoch 12/150\n",
      "105/105 [==============================] - 0s 332us/sample - loss: 1.2588 - accuracy: 0.5333 - val_loss: 1.5406 - val_accuracy: 0.2963\n",
      "Epoch 13/150\n",
      "105/105 [==============================] - 0s 342us/sample - loss: 1.2539 - accuracy: 0.5143 - val_loss: 1.4820 - val_accuracy: 0.2963\n",
      "Epoch 14/150\n",
      "105/105 [==============================] - 0s 351us/sample - loss: 1.1636 - accuracy: 0.5524 - val_loss: 1.4271 - val_accuracy: 0.2963\n",
      "Epoch 15/150\n",
      "105/105 [==============================] - 0s 332us/sample - loss: 1.1026 - accuracy: 0.6286 - val_loss: 1.3635 - val_accuracy: 0.3333\n",
      "Epoch 16/150\n",
      "105/105 [==============================] - 0s 342us/sample - loss: 1.0957 - accuracy: 0.6571 - val_loss: 1.3203 - val_accuracy: 0.3704\n",
      "Epoch 17/150\n",
      "105/105 [==============================] - 0s 351us/sample - loss: 1.0552 - accuracy: 0.6667 - val_loss: 1.2822 - val_accuracy: 0.4074\n",
      "Epoch 18/150\n",
      "105/105 [==============================] - 0s 361us/sample - loss: 0.9320 - accuracy: 0.6762 - val_loss: 1.2528 - val_accuracy: 0.4444\n",
      "Epoch 19/150\n",
      "105/105 [==============================] - 0s 371us/sample - loss: 0.9046 - accuracy: 0.6857 - val_loss: 1.2238 - val_accuracy: 0.3704\n",
      "Epoch 20/150\n",
      "105/105 [==============================] - 0s 389us/sample - loss: 0.8241 - accuracy: 0.7048 - val_loss: 1.2017 - val_accuracy: 0.4444\n",
      "Epoch 21/150\n",
      "105/105 [==============================] - 0s 370us/sample - loss: 0.8024 - accuracy: 0.7143 - val_loss: 1.1166 - val_accuracy: 0.4815\n",
      "Epoch 22/150\n",
      "105/105 [==============================] - 0s 332us/sample - loss: 0.7782 - accuracy: 0.6952 - val_loss: 1.0234 - val_accuracy: 0.5185\n",
      "Epoch 23/150\n",
      "105/105 [==============================] - 0s 323us/sample - loss: 0.7495 - accuracy: 0.7810 - val_loss: 0.9778 - val_accuracy: 0.6296\n",
      "Epoch 24/150\n",
      "105/105 [==============================] - 0s 342us/sample - loss: 0.6453 - accuracy: 0.7810 - val_loss: 0.9151 - val_accuracy: 0.6667\n",
      "Epoch 25/150\n",
      "105/105 [==============================] - 0s 4ms/sample - loss: 0.6611 - accuracy: 0.7810 - val_loss: 0.8108 - val_accuracy: 0.6667\n",
      "Epoch 26/150\n",
      "105/105 [==============================] - 0s 474us/sample - loss: 0.6057 - accuracy: 0.7810 - val_loss: 0.7808 - val_accuracy: 0.7037\n",
      "Epoch 27/150\n",
      "105/105 [==============================] - 0s 350us/sample - loss: 0.5641 - accuracy: 0.8381 - val_loss: 0.9479 - val_accuracy: 0.6296\n",
      "Epoch 28/150\n",
      "105/105 [==============================] - 0s 658us/sample - loss: 0.6161 - accuracy: 0.8190 - val_loss: 0.7767 - val_accuracy: 0.7778\n",
      "Epoch 29/150\n",
      "105/105 [==============================] - 0s 485us/sample - loss: 0.5149 - accuracy: 0.8381 - val_loss: 0.7470 - val_accuracy: 0.7037\n",
      "Epoch 30/150\n",
      "105/105 [==============================] - 0s 621us/sample - loss: 0.5659 - accuracy: 0.8476 - val_loss: 0.6841 - val_accuracy: 0.7778\n",
      "Epoch 31/150\n",
      "105/105 [==============================] - 0s 342us/sample - loss: 0.4653 - accuracy: 0.8571 - val_loss: 0.7228 - val_accuracy: 0.8148\n",
      "Epoch 32/150\n",
      "105/105 [==============================] - 0s 355us/sample - loss: 0.4552 - accuracy: 0.8571 - val_loss: 0.7315 - val_accuracy: 0.7778\n",
      "Epoch 33/150\n",
      "105/105 [==============================] - 0s 342us/sample - loss: 0.3643 - accuracy: 0.8952 - val_loss: 0.6859 - val_accuracy: 0.8148\n",
      "Epoch 34/150\n",
      "105/105 [==============================] - 0s 332us/sample - loss: 0.3351 - accuracy: 0.9238 - val_loss: 0.6908 - val_accuracy: 0.8148\n",
      "Epoch 35/150\n",
      "105/105 [==============================] - 0s 437us/sample - loss: 0.3620 - accuracy: 0.8952 - val_loss: 0.6745 - val_accuracy: 0.7778\n",
      "Epoch 36/150\n",
      "105/105 [==============================] - 0s 323us/sample - loss: 0.2834 - accuracy: 0.9143 - val_loss: 0.7136 - val_accuracy: 0.7778\n",
      "Epoch 37/150\n",
      "105/105 [==============================] - 0s 313us/sample - loss: 0.3222 - accuracy: 0.9238 - val_loss: 0.7655 - val_accuracy: 0.7407\n",
      "Epoch 38/150\n",
      "105/105 [==============================] - 0s 323us/sample - loss: 0.2449 - accuracy: 0.9333 - val_loss: 0.8244 - val_accuracy: 0.7037\n",
      "Epoch 39/150\n",
      "105/105 [==============================] - 0s 332us/sample - loss: 0.2577 - accuracy: 0.9333 - val_loss: 0.7859 - val_accuracy: 0.7407\n",
      "Epoch 40/150\n",
      "105/105 [==============================] - 0s 323us/sample - loss: 0.2352 - accuracy: 0.9429 - val_loss: 0.8426 - val_accuracy: 0.7407\n",
      "Epoch 41/150\n",
      "105/105 [==============================] - 0s 323us/sample - loss: 0.2096 - accuracy: 0.9333 - val_loss: 0.7933 - val_accuracy: 0.7407\n",
      "Epoch 42/150\n",
      "105/105 [==============================] - 0s 342us/sample - loss: 0.2149 - accuracy: 0.9333 - val_loss: 0.7947 - val_accuracy: 0.7407\n",
      "Epoch 43/150\n",
      "105/105 [==============================] - 0s 323us/sample - loss: 0.1806 - accuracy: 0.9524 - val_loss: 0.8377 - val_accuracy: 0.7407\n",
      "Epoch 44/150\n",
      "105/105 [==============================] - 0s 313us/sample - loss: 0.1814 - accuracy: 0.9429 - val_loss: 0.8495 - val_accuracy: 0.7407\n",
      "Epoch 45/150\n",
      "105/105 [==============================] - 0s 313us/sample - loss: 0.1390 - accuracy: 0.9714 - val_loss: 0.8796 - val_accuracy: 0.7407\n",
      "Epoch 46/150\n",
      "105/105 [==============================] - 0s 323us/sample - loss: 0.2335 - accuracy: 0.9333 - val_loss: 0.7799 - val_accuracy: 0.7778\n",
      "Epoch 47/150\n",
      "105/105 [==============================] - 0s 313us/sample - loss: 0.1435 - accuracy: 0.9524 - val_loss: 0.8567 - val_accuracy: 0.7037\n",
      "Epoch 48/150\n",
      "105/105 [==============================] - 0s 323us/sample - loss: 0.1610 - accuracy: 0.9524 - val_loss: 0.7452 - val_accuracy: 0.7407\n",
      "Epoch 49/150\n",
      "105/105 [==============================] - 0s 351us/sample - loss: 0.1607 - accuracy: 0.9524 - val_loss: 0.8106 - val_accuracy: 0.7778\n",
      "Epoch 50/150\n",
      "105/105 [==============================] - 0s 342us/sample - loss: 0.1894 - accuracy: 0.9619 - val_loss: 0.9354 - val_accuracy: 0.7407\n",
      "Epoch 51/150\n",
      "105/105 [==============================] - 0s 313us/sample - loss: 0.1387 - accuracy: 0.9619 - val_loss: 1.0464 - val_accuracy: 0.7407\n",
      "Epoch 52/150\n",
      "105/105 [==============================] - 0s 323us/sample - loss: 0.1202 - accuracy: 0.9810 - val_loss: 1.0532 - val_accuracy: 0.7037\n",
      "Epoch 53/150\n",
      "105/105 [==============================] - 0s 323us/sample - loss: 0.1414 - accuracy: 0.9619 - val_loss: 0.9296 - val_accuracy: 0.6667\n",
      "Epoch 54/150\n",
      "105/105 [==============================] - 0s 313us/sample - loss: 0.1006 - accuracy: 0.9810 - val_loss: 0.8496 - val_accuracy: 0.7407\n",
      "Epoch 55/150\n",
      "105/105 [==============================] - 0s 313us/sample - loss: 0.0803 - accuracy: 0.9905 - val_loss: 0.8929 - val_accuracy: 0.7037\n",
      "Epoch 56/150\n"
     ]
    },
    {
     "name": "stdout",
     "output_type": "stream",
     "text": [
      "105/105 [==============================] - 0s 323us/sample - loss: 0.1185 - accuracy: 0.9810 - val_loss: 0.7451 - val_accuracy: 0.7037\n",
      "Epoch 57/150\n",
      "105/105 [==============================] - 0s 313us/sample - loss: 0.0855 - accuracy: 0.9714 - val_loss: 0.7523 - val_accuracy: 0.8148\n",
      "Epoch 58/150\n",
      "105/105 [==============================] - 0s 323us/sample - loss: 0.0897 - accuracy: 0.9810 - val_loss: 0.8324 - val_accuracy: 0.7778\n",
      "Epoch 59/150\n",
      "105/105 [==============================] - 0s 342us/sample - loss: 0.0849 - accuracy: 0.9810 - val_loss: 0.8921 - val_accuracy: 0.7037\n",
      "Epoch 60/150\n",
      "105/105 [==============================] - 0s 332us/sample - loss: 0.0637 - accuracy: 0.9905 - val_loss: 1.1370 - val_accuracy: 0.7037\n",
      "Epoch 61/150\n",
      "105/105 [==============================] - 0s 332us/sample - loss: 0.0888 - accuracy: 0.9810 - val_loss: 1.0575 - val_accuracy: 0.7037\n",
      "Epoch 62/150\n",
      "105/105 [==============================] - 0s 342us/sample - loss: 0.0986 - accuracy: 0.9905 - val_loss: 0.9313 - val_accuracy: 0.7037\n",
      "Epoch 63/150\n",
      "105/105 [==============================] - 0s 332us/sample - loss: 0.1036 - accuracy: 0.9619 - val_loss: 0.9850 - val_accuracy: 0.7407\n",
      "Epoch 64/150\n",
      "105/105 [==============================] - 0s 342us/sample - loss: 0.1098 - accuracy: 0.9714 - val_loss: 1.2044 - val_accuracy: 0.6667\n",
      "Epoch 65/150\n",
      "105/105 [==============================] - 0s 342us/sample - loss: 0.0955 - accuracy: 0.9714 - val_loss: 0.9513 - val_accuracy: 0.7037\n",
      "Epoch 66/150\n",
      "105/105 [==============================] - 0s 342us/sample - loss: 0.0569 - accuracy: 0.9905 - val_loss: 0.9541 - val_accuracy: 0.7037\n",
      "Epoch 67/150\n",
      "105/105 [==============================] - 0s 332us/sample - loss: 0.0606 - accuracy: 0.9810 - val_loss: 1.0576 - val_accuracy: 0.7037\n",
      "Epoch 68/150\n",
      "105/105 [==============================] - 0s 332us/sample - loss: 0.0918 - accuracy: 0.9714 - val_loss: 1.0665 - val_accuracy: 0.6296\n",
      "Epoch 69/150\n",
      "105/105 [==============================] - 0s 323us/sample - loss: 0.0552 - accuracy: 0.9905 - val_loss: 1.1330 - val_accuracy: 0.6296\n",
      "Epoch 70/150\n",
      "105/105 [==============================] - 0s 342us/sample - loss: 0.0873 - accuracy: 0.9810 - val_loss: 1.0295 - val_accuracy: 0.6667\n",
      "Epoch 71/150\n",
      "105/105 [==============================] - 0s 333us/sample - loss: 0.0454 - accuracy: 0.9905 - val_loss: 0.9890 - val_accuracy: 0.7778\n",
      "Epoch 72/150\n",
      "105/105 [==============================] - 0s 351us/sample - loss: 0.0648 - accuracy: 0.9810 - val_loss: 0.9667 - val_accuracy: 0.8148\n",
      "Epoch 73/150\n",
      "105/105 [==============================] - 0s 332us/sample - loss: 0.0353 - accuracy: 1.0000 - val_loss: 0.9149 - val_accuracy: 0.7407\n",
      "Epoch 74/150\n",
      "105/105 [==============================] - 0s 323us/sample - loss: 0.0255 - accuracy: 1.0000 - val_loss: 0.9775 - val_accuracy: 0.7037\n",
      "Epoch 75/150\n",
      "105/105 [==============================] - 0s 342us/sample - loss: 0.0468 - accuracy: 0.9905 - val_loss: 1.0318 - val_accuracy: 0.7407\n",
      "Epoch 76/150\n",
      "105/105 [==============================] - 0s 342us/sample - loss: 0.0351 - accuracy: 1.0000 - val_loss: 1.1232 - val_accuracy: 0.7407\n",
      "Epoch 77/150\n",
      "105/105 [==============================] - 0s 332us/sample - loss: 0.0393 - accuracy: 0.9905 - val_loss: 1.2068 - val_accuracy: 0.7037\n",
      "Epoch 78/150\n",
      "105/105 [==============================] - 0s 342us/sample - loss: 0.0230 - accuracy: 1.0000 - val_loss: 1.2318 - val_accuracy: 0.7037\n",
      "Epoch 79/150\n",
      "105/105 [==============================] - 0s 342us/sample - loss: 0.0134 - accuracy: 1.0000 - val_loss: 1.2772 - val_accuracy: 0.7037\n",
      "Epoch 80/150\n",
      "105/105 [==============================] - 0s 332us/sample - loss: 0.0169 - accuracy: 1.0000 - val_loss: 1.3390 - val_accuracy: 0.6667\n",
      "Epoch 81/150\n",
      "105/105 [==============================] - 0s 342us/sample - loss: 0.0298 - accuracy: 0.9905 - val_loss: 1.2845 - val_accuracy: 0.6667\n",
      "Epoch 82/150\n",
      "105/105 [==============================] - 0s 332us/sample - loss: 0.0303 - accuracy: 1.0000 - val_loss: 1.1853 - val_accuracy: 0.7407\n",
      "Epoch 83/150\n",
      "105/105 [==============================] - 0s 342us/sample - loss: 0.0213 - accuracy: 1.0000 - val_loss: 1.0557 - val_accuracy: 0.7407\n",
      "Epoch 84/150\n",
      "105/105 [==============================] - 0s 332us/sample - loss: 0.0266 - accuracy: 1.0000 - val_loss: 0.9560 - val_accuracy: 0.7407\n",
      "Epoch 85/150\n",
      "105/105 [==============================] - 0s 342us/sample - loss: 0.0208 - accuracy: 1.0000 - val_loss: 0.9148 - val_accuracy: 0.7778\n",
      "Epoch 86/150\n",
      "105/105 [==============================] - 0s 332us/sample - loss: 0.0147 - accuracy: 1.0000 - val_loss: 0.9594 - val_accuracy: 0.7037\n",
      "Epoch 87/150\n",
      "105/105 [==============================] - 0s 342us/sample - loss: 0.0170 - accuracy: 1.0000 - val_loss: 1.0464 - val_accuracy: 0.6667\n",
      "Epoch 88/150\n",
      "105/105 [==============================] - 0s 332us/sample - loss: 0.0202 - accuracy: 1.0000 - val_loss: 1.1395 - val_accuracy: 0.7407\n",
      "Epoch 89/150\n",
      "105/105 [==============================] - 0s 332us/sample - loss: 0.0515 - accuracy: 0.9905 - val_loss: 1.2033 - val_accuracy: 0.7037\n",
      "Epoch 90/150\n",
      "105/105 [==============================] - 0s 342us/sample - loss: 0.0191 - accuracy: 1.0000 - val_loss: 1.2413 - val_accuracy: 0.7037\n",
      "Epoch 91/150\n",
      "105/105 [==============================] - 0s 342us/sample - loss: 0.0130 - accuracy: 1.0000 - val_loss: 1.2538 - val_accuracy: 0.7037\n",
      "Epoch 92/150\n",
      "105/105 [==============================] - 0s 332us/sample - loss: 0.0121 - accuracy: 1.0000 - val_loss: 1.2262 - val_accuracy: 0.7037\n",
      "Epoch 93/150\n",
      "105/105 [==============================] - 0s 332us/sample - loss: 0.0477 - accuracy: 0.9810 - val_loss: 1.0902 - val_accuracy: 0.7407\n",
      "Epoch 94/150\n",
      "105/105 [==============================] - 0s 332us/sample - loss: 0.0123 - accuracy: 1.0000 - val_loss: 1.1769 - val_accuracy: 0.7037\n",
      "Epoch 95/150\n",
      "105/105 [==============================] - 0s 352us/sample - loss: 0.0317 - accuracy: 0.9905 - val_loss: 1.2388 - val_accuracy: 0.7037\n",
      "Epoch 96/150\n",
      "105/105 [==============================] - 0s 342us/sample - loss: 0.0072 - accuracy: 1.0000 - val_loss: 1.3599 - val_accuracy: 0.7407\n",
      "Epoch 97/150\n",
      "105/105 [==============================] - 0s 332us/sample - loss: 0.0196 - accuracy: 0.9905 - val_loss: 1.5241 - val_accuracy: 0.7037\n",
      "Epoch 98/150\n",
      "105/105 [==============================] - 0s 332us/sample - loss: 0.0188 - accuracy: 1.0000 - val_loss: 1.5881 - val_accuracy: 0.6667\n",
      "Epoch 99/150\n",
      "105/105 [==============================] - 0s 332us/sample - loss: 0.0237 - accuracy: 0.9905 - val_loss: 1.3564 - val_accuracy: 0.7037\n",
      "Epoch 100/150\n",
      "105/105 [==============================] - 0s 323us/sample - loss: 0.0277 - accuracy: 0.9905 - val_loss: 1.0434 - val_accuracy: 0.7407\n",
      "Epoch 101/150\n",
      "105/105 [==============================] - 0s 323us/sample - loss: 0.0092 - accuracy: 1.0000 - val_loss: 0.9620 - val_accuracy: 0.7407\n",
      "Epoch 102/150\n",
      "105/105 [==============================] - 0s 313us/sample - loss: 0.0322 - accuracy: 0.9905 - val_loss: 0.9250 - val_accuracy: 0.8148\n",
      "Epoch 103/150\n",
      "105/105 [==============================] - 0s 323us/sample - loss: 0.0191 - accuracy: 0.9905 - val_loss: 1.0438 - val_accuracy: 0.7778\n",
      "Epoch 104/150\n",
      "105/105 [==============================] - 0s 342us/sample - loss: 0.0128 - accuracy: 1.0000 - val_loss: 1.2251 - val_accuracy: 0.7037\n",
      "Epoch 105/150\n",
      "105/105 [==============================] - 0s 332us/sample - loss: 0.0201 - accuracy: 1.0000 - val_loss: 1.2806 - val_accuracy: 0.7037\n",
      "Epoch 106/150\n",
      "105/105 [==============================] - 0s 342us/sample - loss: 0.0127 - accuracy: 1.0000 - val_loss: 1.2587 - val_accuracy: 0.7037\n",
      "Epoch 107/150\n",
      "105/105 [==============================] - 0s 351us/sample - loss: 0.0093 - accuracy: 1.0000 - val_loss: 1.2330 - val_accuracy: 0.7407\n",
      "Epoch 108/150\n",
      "105/105 [==============================] - 0s 332us/sample - loss: 0.0066 - accuracy: 1.0000 - val_loss: 1.2194 - val_accuracy: 0.7407\n",
      "Epoch 109/150\n",
      "105/105 [==============================] - 0s 342us/sample - loss: 0.0246 - accuracy: 0.9905 - val_loss: 1.1603 - val_accuracy: 0.7407\n",
      "Epoch 110/150\n",
      "105/105 [==============================] - 0s 332us/sample - loss: 0.0093 - accuracy: 1.0000 - val_loss: 1.1380 - val_accuracy: 0.7778\n",
      "Epoch 111/150\n"
     ]
    },
    {
     "name": "stdout",
     "output_type": "stream",
     "text": [
      "105/105 [==============================] - 0s 342us/sample - loss: 0.0160 - accuracy: 1.0000 - val_loss: 1.1228 - val_accuracy: 0.7778\n",
      "Epoch 112/150\n",
      "105/105 [==============================] - 0s 332us/sample - loss: 0.0121 - accuracy: 1.0000 - val_loss: 1.1050 - val_accuracy: 0.7778\n",
      "Epoch 113/150\n",
      "105/105 [==============================] - 0s 323us/sample - loss: 0.0104 - accuracy: 1.0000 - val_loss: 1.0976 - val_accuracy: 0.7778\n",
      "Epoch 114/150\n",
      "105/105 [==============================] - 0s 323us/sample - loss: 0.0077 - accuracy: 1.0000 - val_loss: 1.1258 - val_accuracy: 0.7778\n",
      "Epoch 115/150\n",
      "105/105 [==============================] - 0s 332us/sample - loss: 0.0058 - accuracy: 1.0000 - val_loss: 1.1812 - val_accuracy: 0.7407\n",
      "Epoch 116/150\n",
      "105/105 [==============================] - 0s 332us/sample - loss: 0.0071 - accuracy: 1.0000 - val_loss: 1.2301 - val_accuracy: 0.7037\n",
      "Epoch 117/150\n",
      "105/105 [==============================] - 0s 332us/sample - loss: 0.0082 - accuracy: 1.0000 - val_loss: 1.2831 - val_accuracy: 0.7407\n",
      "Epoch 118/150\n",
      "105/105 [==============================] - 0s 342us/sample - loss: 0.0170 - accuracy: 0.9905 - val_loss: 1.2293 - val_accuracy: 0.7037\n",
      "Epoch 119/150\n",
      "105/105 [==============================] - 0s 332us/sample - loss: 0.0106 - accuracy: 1.0000 - val_loss: 1.1557 - val_accuracy: 0.7407\n",
      "Epoch 120/150\n",
      "105/105 [==============================] - 0s 323us/sample - loss: 0.0094 - accuracy: 1.0000 - val_loss: 1.2178 - val_accuracy: 0.7037\n",
      "Epoch 121/150\n",
      "105/105 [==============================] - 0s 332us/sample - loss: 0.0206 - accuracy: 1.0000 - val_loss: 1.2010 - val_accuracy: 0.7778\n",
      "Epoch 122/150\n",
      "105/105 [==============================] - 0s 380us/sample - loss: 0.0096 - accuracy: 1.0000 - val_loss: 1.3341 - val_accuracy: 0.7407\n",
      "Epoch 123/150\n",
      "105/105 [==============================] - 0s 342us/sample - loss: 0.0060 - accuracy: 1.0000 - val_loss: 1.5611 - val_accuracy: 0.7037\n",
      "Epoch 124/150\n",
      "105/105 [==============================] - 0s 323us/sample - loss: 0.0079 - accuracy: 1.0000 - val_loss: 1.7613 - val_accuracy: 0.7037\n",
      "Epoch 125/150\n",
      "105/105 [==============================] - 0s 323us/sample - loss: 0.0075 - accuracy: 1.0000 - val_loss: 1.7987 - val_accuracy: 0.7037\n",
      "Epoch 126/150\n",
      "105/105 [==============================] - 0s 332us/sample - loss: 0.0229 - accuracy: 0.9905 - val_loss: 1.4884 - val_accuracy: 0.7037\n",
      "Epoch 127/150\n",
      "105/105 [==============================] - 0s 342us/sample - loss: 0.0049 - accuracy: 1.0000 - val_loss: 1.6099 - val_accuracy: 0.6667\n",
      "Epoch 128/150\n",
      "105/105 [==============================] - 0s 332us/sample - loss: 0.0236 - accuracy: 0.9905 - val_loss: 1.5573 - val_accuracy: 0.6667\n",
      "Epoch 129/150\n",
      "105/105 [==============================] - 0s 332us/sample - loss: 0.0076 - accuracy: 1.0000 - val_loss: 1.5330 - val_accuracy: 0.7407\n",
      "Epoch 130/150\n",
      "105/105 [==============================] - 0s 332us/sample - loss: 0.0079 - accuracy: 1.0000 - val_loss: 1.6851 - val_accuracy: 0.7037\n",
      "Epoch 131/150\n",
      "105/105 [==============================] - 0s 323us/sample - loss: 0.0062 - accuracy: 1.0000 - val_loss: 1.8103 - val_accuracy: 0.7037\n",
      "Epoch 132/150\n",
      "105/105 [==============================] - 0s 313us/sample - loss: 0.0142 - accuracy: 1.0000 - val_loss: 1.8365 - val_accuracy: 0.7037\n",
      "Epoch 133/150\n",
      "105/105 [==============================] - 0s 332us/sample - loss: 0.0088 - accuracy: 1.0000 - val_loss: 1.7713 - val_accuracy: 0.7037\n",
      "Epoch 134/150\n",
      "105/105 [==============================] - 0s 484us/sample - loss: 0.0083 - accuracy: 1.0000 - val_loss: 1.6764 - val_accuracy: 0.7037\n",
      "Epoch 135/150\n",
      "105/105 [==============================] - 0s 332us/sample - loss: 0.0053 - accuracy: 1.0000 - val_loss: 1.5728 - val_accuracy: 0.7037\n",
      "Epoch 136/150\n",
      "105/105 [==============================] - 0s 342us/sample - loss: 0.0065 - accuracy: 1.0000 - val_loss: 1.4864 - val_accuracy: 0.7037\n",
      "Epoch 137/150\n",
      "105/105 [==============================] - 0s 342us/sample - loss: 0.0070 - accuracy: 1.0000 - val_loss: 1.4116 - val_accuracy: 0.7037\n",
      "Epoch 138/150\n",
      "105/105 [==============================] - 0s 332us/sample - loss: 0.0042 - accuracy: 1.0000 - val_loss: 1.3559 - val_accuracy: 0.7407\n",
      "Epoch 139/150\n",
      "105/105 [==============================] - 0s 323us/sample - loss: 0.0069 - accuracy: 1.0000 - val_loss: 1.3327 - val_accuracy: 0.7407\n",
      "Epoch 140/150\n",
      "105/105 [==============================] - 0s 323us/sample - loss: 0.0051 - accuracy: 1.0000 - val_loss: 1.3278 - val_accuracy: 0.7407\n",
      "Epoch 141/150\n",
      "105/105 [==============================] - 0s 351us/sample - loss: 0.0065 - accuracy: 1.0000 - val_loss: 1.3344 - val_accuracy: 0.7407\n",
      "Epoch 142/150\n",
      "105/105 [==============================] - 0s 323us/sample - loss: 0.0063 - accuracy: 1.0000 - val_loss: 1.3443 - val_accuracy: 0.7407\n",
      "Epoch 143/150\n",
      "105/105 [==============================] - 0s 323us/sample - loss: 0.0035 - accuracy: 1.0000 - val_loss: 1.3568 - val_accuracy: 0.7407\n",
      "Epoch 144/150\n",
      "105/105 [==============================] - 0s 342us/sample - loss: 0.0042 - accuracy: 1.0000 - val_loss: 1.3718 - val_accuracy: 0.7407\n",
      "Epoch 145/150\n",
      "105/105 [==============================] - 0s 342us/sample - loss: 0.0051 - accuracy: 1.0000 - val_loss: 1.3932 - val_accuracy: 0.7407\n",
      "Epoch 146/150\n",
      "105/105 [==============================] - 0s 332us/sample - loss: 0.0033 - accuracy: 1.0000 - val_loss: 1.4178 - val_accuracy: 0.7037\n",
      "Epoch 147/150\n",
      "105/105 [==============================] - 0s 342us/sample - loss: 0.0048 - accuracy: 1.0000 - val_loss: 1.4379 - val_accuracy: 0.7037\n",
      "Epoch 148/150\n",
      "105/105 [==============================] - 0s 332us/sample - loss: 0.0052 - accuracy: 1.0000 - val_loss: 1.4564 - val_accuracy: 0.7037\n",
      "Epoch 149/150\n",
      "105/105 [==============================] - 0s 332us/sample - loss: 0.0046 - accuracy: 1.0000 - val_loss: 1.4808 - val_accuracy: 0.7037\n",
      "Epoch 150/150\n",
      "105/105 [==============================] - 0s 342us/sample - loss: 0.0029 - accuracy: 1.0000 - val_loss: 1.5107 - val_accuracy: 0.7037\n"
     ]
    }
   ],
   "source": [
    "hist = model.fit(X_train,y_train,epochs = 150 ,callbacks = callbacks,validation_split = .2,shuffle = True,batch_size = 64)"
   ]
  },
  {
   "cell_type": "code",
   "execution_count": 24,
   "metadata": {},
   "outputs": [
    {
     "data": {
      "text/plain": [
       "<matplotlib.legend.Legend at 0x232654e8188>"
      ]
     },
     "execution_count": 24,
     "metadata": {},
     "output_type": "execute_result"
    },
    {
     "data": {
      "image/png": "[encoded data removed]",
      "text/plain": [
       "<Figure size 432x288 with 1 Axes>"
      ]
     },
     "metadata": {
      "needs_background": "light"
     },
     "output_type": "display_data"
    }
   ],
   "source": [
    "plt.plot(hist.history['val_accuracy'],label = 'val')\n",
    "plt.plot(hist.history['accuracy'],label = 'train')\n",
    "plt.legend()"
   ]
  },
  {
   "cell_type": "code",
   "execution_count": 14,
   "metadata": {},
   "outputs": [
    {
     "name": "stdout",
     "output_type": "stream",
     "text": [
      "['0.15164' '0.30177' '-0.16763' '0.17684' '0.31719' '0.33973' '-0.43478'\n",
      " '-0.31086' '-0.44999' '-0.29486' '0.16608' '0.11963' '-0.41328'\n",
      " '-0.42353' '0.59868' '0.28825' '-0.11547' '-0.041848' '-0.67989'\n",
      " '-0.25063' '0.18472' '0.086876' '0.46582' '0.015035' '0.043474' '-1.4671'\n",
      " '-0.30384' '-0.023441' '0.30589' '-0.21785' '3.746' '0.0042284'\n",
      " '-0.18436' '-0.46209' '0.098329' '-0.11907' '0.23919' '0.1161' '0.41705'\n",
      " '0.056763' '-6.3681e-05' '0.068987' '0.087939' '-0.10285' '-0.13931'\n",
      " '0.22314' '-0.080803' '-0.35652' '0.016413' '0.10216']\n"
     ]
    }
   ],
   "source": [
    "print(embedding['.'])"
   ]
  },
  {
   "cell_type": "code",
   "execution_count": 27,
   "metadata": {},
   "outputs": [],
   "source": [
    "model.load_weights('best_model.h5')"
   ]
  },
  {
   "cell_type": "code",
   "execution_count": 16,
   "metadata": {},
   "outputs": [
    {
     "name": "stdout",
     "output_type": "stream",
     "text": [
      "Model: \"sequential\"\n",
      "_________________________________________________________________\n",
      "Layer (type)                 Output Shape              Param #   \n",
      "=================================================================\n",
      "lstm (LSTM)                  (None, 10, 64)            29440     \n",
      "_________________________________________________________________\n",
      "dropout (Dropout)            (None, 10, 64)            0         \n",
      "_________________________________________________________________\n",
      "lstm_1 (LSTM)                (None, 64)                33024     \n",
      "_________________________________________________________________\n",
      "dropout_1 (Dropout)          (None, 64)                0         \n",
      "_________________________________________________________________\n",
      "dense (Dense)                (None, 5)                 325       \n",
      "=================================================================\n",
      "Total params: 62,789\n",
      "Trainable params: 62,789\n",
      "Non-trainable params: 0\n",
      "_________________________________________________________________\n"
     ]
    }
   ],
   "source": [
    "model.summary()"
   ]
  },
  {
   "cell_type": "code",
   "execution_count": 28,
   "metadata": {},
   "outputs": [
    {
     "name": "stdout",
     "output_type": "stream",
     "text": [
      "132/132 [==============================] - 0s 136us/sample - loss: 0.3341 - accuracy: 0.9091\n",
      "56/56 [==============================] - 0s 143us/sample - loss: 1.1129 - accuracy: 0.6964\n"
     ]
    },
    {
     "data": {
      "text/plain": [
       "[1.1129008531570435, 0.6964286]"
      ]
     },
     "execution_count": 28,
     "metadata": {},
     "output_type": "execute_result"
    }
   ],
   "source": [
    "#Evaluation on training set\n",
    "model.evaluate(X_train,y_train,batch_size = 64)\n",
    "model.evaluate(X_test,y_test,batch_size = 64)"
   ]
  },
  {
   "cell_type": "code",
   "execution_count": 29,
   "metadata": {},
   "outputs": [],
   "source": [
    "output = model.predict_classes(X_test,batch_size=64)"
   ]
  },
  {
   "cell_type": "code",
   "execution_count": 30,
   "metadata": {},
   "outputs": [
    {
     "name": "stdout",
     "output_type": "stream",
     "text": [
      "I want to eat\t 🍴\n",
      "he did not answer\t 😓\n",
      "he got a raise\t 😁\n",
      "she got me a present\t ❤️\n",
      "ha ha ha it was so funny\t 😁\n",
      "he is a good friend\t 😁\n",
      "I am upset\t 😓\n",
      "We had such a lovely dinner tonight\t 😁\n",
      "where is the food\t 🍴\n",
      "Stop making this joke ha ha ha\t 😁\n",
      "where is the ball\t ⚾\n",
      "work is hard\t 😓\n",
      "This girl is messing with me\t ❤️\n",
      "are you serious ha ha\t 😓\n",
      "Let us go play baseball\t ⚾\n",
      "This stupid grader is not working \t 😓\n",
      "work is horrible\t 😓\n",
      "Congratulation for having a baby\t 😁\n",
      "stop messing around\t 😓\n",
      "any suggestions for dinner\t 🍴\n",
      "I love taking breaks\t ❤️\n",
      "you brighten my day\t ❤️\n",
      "I boiled rice\t 🍴\n",
      "she is a bully\t 😓\n",
      "Why are you feeling bad\t 😓\n",
      "I am upset\t 😓\n",
      "I worked during my birthday\t 😁\n",
      "My grandmother is the love of my life\t ❤️\n",
      "enjoy your break\t 🍴\n",
      "valentine day is near\t 😁\n",
      "I miss you so much\t ❤️\n",
      "throw the ball\t ⚾\n",
      "My life is so boring\t ❤️\n",
      "she said yes\t 😁\n",
      "will you be my valentine\t ❤️\n",
      "he can pitch really well\t ⚾\n",
      "dance with me\t 😁\n",
      "I am starving\t 😓\n",
      "See you at the restaurant\t 🍴\n",
      "I like to laugh\t 😁\n",
      "I will go dance ⚾\n",
      "I like your jacket \t ❤️\n",
      "i miss her\t ❤️\n",
      "what is your favorite baseball game\t ⚾\n",
      "Good job\t 😁\n",
      "I love to the stars and back\t ❤️\n",
      "What you did was awesome\t 😁\n",
      "ha ha ha lol\t 😁\n",
      "I want to joke\t 😓\n",
      "go away\t 😓\n",
      "yesterday we lost again\t ⚾\n",
      "family is all I have\t 😓\n",
      "you are failing this exercise\t 😓\n",
      "Good joke\t 😁\n",
      "You totally deserve this prize\t 😁\n",
      "I did not have breakfast  🍴\n"
     ]
    }
   ],
   "source": [
    "for idx,sent in enumerate(df_test.iloc[:,0].values):\n",
    "    print(sent,emoji.emojize(emojiset[output[idx]]))"
   ]
  },
  {
   "cell_type": "code",
   "execution_count": 40,
   "metadata": {},
   "outputs": [],
   "source": [
    "def predictWord(x):\n",
    "    curr_x = np.array([x.lower().split(' ')])\n",
    "    embed = embedding_output(curr_x,10)\n",
    "    y_pred = model.predict_classes(embed)\n",
    "    return y_pred[0]"
   ]
  },
  {
   "cell_type": "code",
   "execution_count": 45,
   "metadata": {},
   "outputs": [
    {
     "name": "stdout",
     "output_type": "stream",
     "text": [
      "😁\n"
     ]
    }
   ],
   "source": [
    "print(emoji.emojize(emojiset[predictWord('Very happy i am')]))"
   ]
  },
  {
   "cell_type": "code",
   "execution_count": 52,
   "metadata": {},
   "outputs": [],
   "source": [
    "def algo():\n",
    "    while(1):\n",
    "        print(\"Enter the sentence(type 'stop' to end) :\")\n",
    "        x = input()\n",
    "        if(x == 'stop'):\n",
    "            break\n",
    "        print(emoji.emojize(emojiset[predictWord(x)]))"
   ]
  },
  {
   "cell_type": "code",
   "execution_count": 54,
   "metadata": {},
   "outputs": [
    {
     "name": "stdout",
     "output_type": "stream",
     "text": [
      "Enter the sentence(type 'stop' to end) :\n",
      "i love you\n",
      "❤️\n",
      "Enter the sentence(type 'stop' to end) :\n",
      "i love maths\n",
      "❤️\n",
      "Enter the sentence(type 'stop' to end) :\n",
      "i like ice cream\n",
      "😁\n",
      "Enter the sentence(type 'stop' to end) :\n",
      "food is tasty\n",
      "🍴\n",
      "Enter the sentence(type 'stop' to end) :\n",
      "icecream is nice\n",
      "😁\n",
      "Enter the sentence(type 'stop' to end) :\n",
      "get me something\n",
      "😓\n",
      "Enter the sentence(type 'stop' to end) :\n",
      "kill me\n",
      "😓\n",
      "Enter the sentence(type 'stop' to end) :\n",
      "kill me happy\n",
      "😓\n",
      "Enter the sentence(type 'stop' to end) :\n",
      "kill me happy happy happy\n",
      "😁\n",
      "Enter the sentence(type 'stop' to end) :\n",
      "stop\n"
     ]
    }
   ],
   "source": [
    "algo()"
   ]
  }
 ],
 "metadata": {
  "kernelspec": {
   "display_name": "Python 3",
   "language": "python",
   "name": "python3"
  },
  "language_info": {
   "codemirror_mode": {
    "name": "ipython",
    "version": 3
   },
   "file_extension": ".py",
   "mimetype": "text/x-python",
   "name": "python",
   "nbconvert_exporter": "python",
   "pygments_lexer": "ipython3",
   "version": "3.7.9"
  }
 },
 "nbformat": 4,
 "nbformat_minor": 4
}
